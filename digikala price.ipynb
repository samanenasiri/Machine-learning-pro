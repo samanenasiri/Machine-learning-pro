{
 "cells": [
  {
   "cell_type": "code",
   "execution_count": 59,
   "id": "0a66fb87",
   "metadata": {},
   "outputs": [],
   "source": [
    "import numpy as np\n",
    "import pandas as pd\n",
    "import matplotlib.pyplot as plt\n",
    "from sklearn.pipeline import make_pipeline\n",
    "from sklearn.linear_model import LinearRegression, SGDRegressor, Ridge, Lasso\n",
    "from sklearn.preprocessing import PolynomialFeatures, MinMaxScaler, StandardScaler\n",
    "from sklearn.model_selection import train_test_split, learning_curve,cross_val_score\n",
    "from sklearn.metrics import mean_squared_error,r2_score\n",
    "from sklearn.tree import DecisionTreeRegressor\n",
    "from sklearn.ensemble import RandomForestRegressor\n",
    "from sklearn.neighbors import KNeighborsRegressor\n"
   ]
  },
  {
   "cell_type": "code",
   "execution_count": 60,
   "id": "e660f718",
   "metadata": {},
   "outputs": [],
   "source": [
    "df=pd.read_csv('data/train.csv')"
   ]
  },
  {
   "cell_type": "code",
   "execution_count": 61,
   "id": "62cd6947",
   "metadata": {},
   "outputs": [],
   "source": [
    "#تبدیل کلید دیکشنری استانداردبه ستون های جدول (دیکشنری ما استاندارد نبود نمیشه ازش استفاده کرد) \n",
    "# df = pd.concat([df, df[\"product_description\"].apply(pd.Series)], axis=1)\n",
    "# df\n",
    "\n",
    "\n",
    "\n",
    "\n",
    "# df['category']=df.product_description.apply(lambda x:x.split(',')[-2].split(':')[1])\n",
    "\n",
    "# for i in range(0,(df.shape[0])-1):\n",
    "#     df['category']=df.product_description[i].split(',')[-2].split(':')[1]\n",
    "#     df['brand']=df.product_description[i].split(',')[-1].split(':')[1]\n",
    "\n",
    "\n",
    "\n",
    "# df.product_description[6].split(',')[-1]    #\" 'برند': 'متفرقه'}\"\n",
    "# df.product_description[0].split(',')[-1].split(':')    #[\" 'برند'\", \" 'متفرقه'}\"]"
   ]
  },
  {
   "cell_type": "code",
   "execution_count": 62,
   "id": "a4bb9e8d",
   "metadata": {},
   "outputs": [],
   "source": [
    "# Python3 code to demonstrate\n",
    "# convert dictionary string to dictionary\n",
    "import ast\n",
    "\n",
    "def convert_to_dict(string):\n",
    "    dic = ast.literal_eval(string)\n",
    "    return dic\n",
    "df['product_description_dic']=df['product_description'].apply(convert_to_dict)"
   ]
  },
  {
   "cell_type": "code",
   "execution_count": 63,
   "id": "ffee6c59",
   "metadata": {},
   "outputs": [],
   "source": [
    "#برای مقایسه ی اینکه آیا تمامی کلیدهای دیکشنری شبیه به هم یا ترتیب مشابه دارند یا نه که نداشتند:\\\n",
    "# def check_keys_of_column():\n",
    "#     for i in range(0,df.shape[0]):\n",
    "#         print(df['product_description_dic'][i].keys())\n",
    "# check_keys_of_column()        "
   ]
  },
  {
   "cell_type": "code",
   "execution_count": 64,
   "id": "aade9ea8",
   "metadata": {},
   "outputs": [],
   "source": [
    "\n",
    "# category_value_list=[]\n",
    "# category_dic={}\n",
    "# for i in range(0,df.shape[0]):\n",
    "#     key=list(df['product_description_dic'][i].keys())\n",
    "#     for j in range(len(key)):\n",
    "#         if key[j]=='دسته بندی':\n",
    "#             a=list(df['product_description_dic'][i].values())[j]\n",
    "#             category_value_list.append(a)\n",
    "# category_dic['category']=category_value_list\n",
    "\n",
    "        \n",
    "    \n",
    "    \n",
    "    \n",
    "    \n",
    "    \n",
    "    \n",
    "# brand_value_list=[]\n",
    "# brand_dic={}\n",
    "# for i in range(0,df.shape[0]):\n",
    "#     key=list(df['product_description_dic'][i].keys())\n",
    "#     for j in range(len(key)):\n",
    "#         if key[j]=='برند':\n",
    "#             a=list(df['product_description_dic'][i].values())[j]\n",
    "#             brand_value_list.append(a)\n",
    "# brand_dic['brand']=brand_value_list"
   ]
  },
  {
   "cell_type": "code",
   "execution_count": 65,
   "id": "79044e1b",
   "metadata": {},
   "outputs": [
    {
     "data": {
      "text/html": [
       "<div>\n",
       "<style scoped>\n",
       "    .dataframe tbody tr th:only-of-type {\n",
       "        vertical-align: middle;\n",
       "    }\n",
       "\n",
       "    .dataframe tbody tr th {\n",
       "        vertical-align: top;\n",
       "    }\n",
       "\n",
       "    .dataframe thead th {\n",
       "        text-align: right;\n",
       "    }\n",
       "</style>\n",
       "<table border=\"1\" class=\"dataframe\">\n",
       "  <thead>\n",
       "    <tr style=\"text-align: right;\">\n",
       "      <th></th>\n",
       "      <th>دسته بندی</th>\n",
       "      <th>برند</th>\n",
       "    </tr>\n",
       "  </thead>\n",
       "  <tbody>\n",
       "    <tr>\n",
       "      <th>0</th>\n",
       "      <td>کابل کمبو</td>\n",
       "      <td>متفرقه</td>\n",
       "    </tr>\n",
       "    <tr>\n",
       "      <th>1</th>\n",
       "      <td>کابل کمبو</td>\n",
       "      <td>ادیمکس</td>\n",
       "    </tr>\n",
       "    <tr>\n",
       "      <th>2</th>\n",
       "      <td>کابل کمبو</td>\n",
       "      <td>متفرقه</td>\n",
       "    </tr>\n",
       "    <tr>\n",
       "      <th>3</th>\n",
       "      <td>کابل کمبو</td>\n",
       "      <td>متفرقه</td>\n",
       "    </tr>\n",
       "    <tr>\n",
       "      <th>4</th>\n",
       "      <td>کابل کمبو</td>\n",
       "      <td>دی-لینک</td>\n",
       "    </tr>\n",
       "    <tr>\n",
       "      <th>...</th>\n",
       "      <td>...</td>\n",
       "      <td>...</td>\n",
       "    </tr>\n",
       "    <tr>\n",
       "      <th>68835</th>\n",
       "      <td>شارژر تبلت و موبایل</td>\n",
       "      <td>موکسوم</td>\n",
       "    </tr>\n",
       "    <tr>\n",
       "      <th>68836</th>\n",
       "      <td>شارژر تبلت و موبایل</td>\n",
       "      <td>ال جی</td>\n",
       "    </tr>\n",
       "    <tr>\n",
       "      <th>68837</th>\n",
       "      <td>شارژر تبلت و موبایل</td>\n",
       "      <td>مورف</td>\n",
       "    </tr>\n",
       "    <tr>\n",
       "      <th>68838</th>\n",
       "      <td>شارژر تبلت و موبایل</td>\n",
       "      <td>ریمکس</td>\n",
       "    </tr>\n",
       "    <tr>\n",
       "      <th>68839</th>\n",
       "      <td>شارژر تبلت و موبایل</td>\n",
       "      <td>نوکیا</td>\n",
       "    </tr>\n",
       "  </tbody>\n",
       "</table>\n",
       "<p>68840 rows × 2 columns</p>\n",
       "</div>"
      ],
      "text/plain": [
       "                 دسته بندی     برند\n",
       "0                کابل کمبو   متفرقه\n",
       "1                کابل کمبو   ادیمکس\n",
       "2                کابل کمبو   متفرقه\n",
       "3                کابل کمبو   متفرقه\n",
       "4                کابل کمبو  دی-لینک\n",
       "...                    ...      ...\n",
       "68835  شارژر تبلت و موبایل   موکسوم\n",
       "68836  شارژر تبلت و موبایل    ال جی\n",
       "68837  شارژر تبلت و موبایل     مورف\n",
       "68838  شارژر تبلت و موبایل    ریمکس\n",
       "68839  شارژر تبلت و موبایل    نوکیا\n",
       "\n",
       "[68840 rows x 2 columns]"
      ]
     },
     "execution_count": 65,
     "metadata": {},
     "output_type": "execute_result"
    }
   ],
   "source": [
    "def split_dict_column():\n",
    "    feature_list=['دسته بندی','برند']\n",
    "    dic={}\n",
    "    for feature_name in feature_list:\n",
    "        val_list=[]\n",
    "        for i in range(0,df.shape[0]):\n",
    "            key=list(df['product_description_dic'][i].keys())\n",
    "            for j in range(len(key)):\n",
    "                if key[j]==feature_name:\n",
    "                    val=list(df['product_description_dic'][i].values())[j]\n",
    "                    val_list.append(val)\n",
    "        dic[feature_name]=val_list\n",
    "    new_df=pd.DataFrame(dict([ (k,pd.Series(v)) for k,v in dic.items() ]))\n",
    "    result = pd.concat([df, new_df], axis=1)\n",
    "    result.drop(columns=['product_description_dic'],inplace=True)\n",
    "    result.to_csv('final_df.csv')\n",
    "    return new_df\n",
    "\n",
    "split_dict_column()"
   ]
  },
  {
   "cell_type": "code",
   "execution_count": 66,
   "id": "f1873ee9",
   "metadata": {},
   "outputs": [],
   "source": [
    "df=pd.read_csv('final_df.csv')"
   ]
  },
  {
   "cell_type": "code",
   "execution_count": 67,
   "id": "ef0d3266",
   "metadata": {},
   "outputs": [],
   "source": [
    "df['brand']=df['برند']\n",
    "df['category']=df['دسته بندی']\n"
   ]
  },
  {
   "cell_type": "code",
   "execution_count": 68,
   "id": "44e934d8",
   "metadata": {},
   "outputs": [],
   "source": [
    "df.drop(columns=['Unnamed: 0','برند','دسته بندی','product_description'],inplace=True)"
   ]
  },
  {
   "cell_type": "code",
   "execution_count": null,
   "id": "9a512dba",
   "metadata": {},
   "outputs": [],
   "source": []
  },
  {
   "cell_type": "code",
   "execution_count": 69,
   "id": "562e16b1",
   "metadata": {},
   "outputs": [
    {
     "data": {
      "text/plain": [
       "id          0\n",
       "price       0\n",
       "brand       0\n",
       "category    0\n",
       "dtype: int64"
      ]
     },
     "execution_count": 69,
     "metadata": {},
     "output_type": "execute_result"
    }
   ],
   "source": [
    "df.isna().sum()"
   ]
  },
  {
   "cell_type": "code",
   "execution_count": 70,
   "id": "888d8026",
   "metadata": {},
   "outputs": [
    {
     "name": "stdout",
     "output_type": "stream",
     "text": [
      "<class 'pandas.core.frame.DataFrame'>\n",
      "RangeIndex: 68840 entries, 0 to 68839\n",
      "Data columns (total 4 columns):\n",
      " #   Column    Non-Null Count  Dtype \n",
      "---  ------    --------------  ----- \n",
      " 0   id        68840 non-null  int64 \n",
      " 1   price     68840 non-null  int64 \n",
      " 2   brand     68840 non-null  object\n",
      " 3   category  68840 non-null  object\n",
      "dtypes: int64(2), object(2)\n",
      "memory usage: 2.1+ MB\n"
     ]
    }
   ],
   "source": [
    "df.info()"
   ]
  },
  {
   "cell_type": "code",
   "execution_count": 71,
   "id": "a67faa77",
   "metadata": {},
   "outputs": [],
   "source": [
    "cat_feature_list=['category','brand']\n",
    "for i in cat_feature_list:\n",
    "    df[i] = pd.Categorical(df[i])\n",
    "    df[i] = df[i].cat.codes\n",
    "    \n",
    "    \n",
    "    \n",
    "    "
   ]
  },
  {
   "cell_type": "code",
   "execution_count": 72,
   "id": "c9280662",
   "metadata": {},
   "outputs": [],
   "source": [
    "\n",
    "values = df.groupby('brand').price.median().sort_values().index\n",
    "brand_weights = range(1, len(values)+1)\n",
    "brand_dic = {val: weights for (val, weights) in zip(values, brand_weights)}\n",
    "df.brand.replace(brand_dic, inplace=True)"
   ]
  },
  {
   "cell_type": "code",
   "execution_count": 73,
   "id": "183786d3",
   "metadata": {},
   "outputs": [],
   "source": [
    "values = df.groupby('category').price.mean().sort_values().index\n",
    "category_weights = range(1, len(values)+1)\n",
    "category_dic = {val: weights for (val, weights) in zip(values, category_weights)}\n",
    "df.category.replace(category_dic, inplace=True)"
   ]
  },
  {
   "cell_type": "code",
   "execution_count": 74,
   "id": "1d0fc2ee",
   "metadata": {},
   "outputs": [
    {
     "data": {
      "text/plain": [
       "brand\n",
       "1       0.000000e+00\n",
       "2       1.000000e+04\n",
       "4       1.140000e+05\n",
       "3       1.152667e+05\n",
       "6       1.500000e+05\n",
       "            ...     \n",
       "1654    6.002500e+08\n",
       "1655    6.500000e+08\n",
       "1657    8.500000e+08\n",
       "1651    8.588483e+08\n",
       "1658    9.300000e+08\n",
       "Name: price, Length: 1658, dtype: float64"
      ]
     },
     "execution_count": 74,
     "metadata": {},
     "output_type": "execute_result"
    }
   ],
   "source": [
    "df.groupby('brand').price.mean().sort_values()"
   ]
  },
  {
   "cell_type": "code",
   "execution_count": 75,
   "id": "d8d4ea26",
   "metadata": {},
   "outputs": [
    {
     "data": {
      "text/plain": [
       "category\n",
       "1      2.259080e+05\n",
       "2      5.979960e+05\n",
       "3      6.094286e+05\n",
       "4      7.128500e+05\n",
       "5      8.327044e+05\n",
       "           ...     \n",
       "176    3.054659e+08\n",
       "177    5.663234e+08\n",
       "178    5.722877e+08\n",
       "179    7.166853e+08\n",
       "180    7.259864e+08\n",
       "Name: price, Length: 180, dtype: float64"
      ]
     },
     "execution_count": 75,
     "metadata": {},
     "output_type": "execute_result"
    }
   ],
   "source": [
    "df.groupby('category').price.mean().sort_values()"
   ]
  },
  {
   "cell_type": "code",
   "execution_count": 76,
   "id": "b34f8ebf",
   "metadata": {},
   "outputs": [
    {
     "data": {
      "text/plain": [
       "id         -0.222299\n",
       "category    0.440221\n",
       "brand       0.445468\n",
       "price       1.000000\n",
       "Name: price, dtype: float64"
      ]
     },
     "execution_count": 76,
     "metadata": {},
     "output_type": "execute_result"
    }
   ],
   "source": [
    "a=df.corr()\n",
    "a['price'].sort_values()"
   ]
  },
  {
   "cell_type": "code",
   "execution_count": 77,
   "id": "b2825d42",
   "metadata": {},
   "outputs": [],
   "source": [
    "X= df.drop([\"price\"],axis =1)\n",
    "y= df[\"price\"]"
   ]
  },
  {
   "cell_type": "code",
   "execution_count": 78,
   "id": "37abdf7c",
   "metadata": {},
   "outputs": [],
   "source": [
    "X_train, X_test, y_train, y_test = train_test_split(X, y,test_size=0.3, random_state=5)"
   ]
  },
  {
   "cell_type": "code",
   "execution_count": 79,
   "id": "94d6ebe4",
   "metadata": {},
   "outputs": [
    {
     "data": {
      "text/plain": [
       "(48188, 3)"
      ]
     },
     "execution_count": 79,
     "metadata": {},
     "output_type": "execute_result"
    }
   ],
   "source": [
    "X_train.shape"
   ]
  },
  {
   "cell_type": "code",
   "execution_count": 80,
   "id": "7de06bc8",
   "metadata": {},
   "outputs": [
    {
     "data": {
      "text/html": [
       "<div>\n",
       "<style scoped>\n",
       "    .dataframe tbody tr th:only-of-type {\n",
       "        vertical-align: middle;\n",
       "    }\n",
       "\n",
       "    .dataframe tbody tr th {\n",
       "        vertical-align: top;\n",
       "    }\n",
       "\n",
       "    .dataframe thead th {\n",
       "        text-align: right;\n",
       "    }\n",
       "</style>\n",
       "<table border=\"1\" class=\"dataframe\">\n",
       "  <thead>\n",
       "    <tr style=\"text-align: right;\">\n",
       "      <th></th>\n",
       "      <th>id</th>\n",
       "      <th>brand</th>\n",
       "      <th>category</th>\n",
       "    </tr>\n",
       "  </thead>\n",
       "  <tbody>\n",
       "    <tr>\n",
       "      <th>51956</th>\n",
       "      <td>51956</td>\n",
       "      <td>288</td>\n",
       "      <td>2</td>\n",
       "    </tr>\n",
       "    <tr>\n",
       "      <th>48769</th>\n",
       "      <td>48769</td>\n",
       "      <td>852</td>\n",
       "      <td>38</td>\n",
       "    </tr>\n",
       "    <tr>\n",
       "      <th>21755</th>\n",
       "      <td>21755</td>\n",
       "      <td>288</td>\n",
       "      <td>36</td>\n",
       "    </tr>\n",
       "    <tr>\n",
       "      <th>53712</th>\n",
       "      <td>53712</td>\n",
       "      <td>288</td>\n",
       "      <td>2</td>\n",
       "    </tr>\n",
       "    <tr>\n",
       "      <th>53583</th>\n",
       "      <td>53583</td>\n",
       "      <td>288</td>\n",
       "      <td>2</td>\n",
       "    </tr>\n",
       "    <tr>\n",
       "      <th>...</th>\n",
       "      <td>...</td>\n",
       "      <td>...</td>\n",
       "      <td>...</td>\n",
       "    </tr>\n",
       "    <tr>\n",
       "      <th>21894</th>\n",
       "      <td>21894</td>\n",
       "      <td>288</td>\n",
       "      <td>36</td>\n",
       "    </tr>\n",
       "    <tr>\n",
       "      <th>4718</th>\n",
       "      <td>4718</td>\n",
       "      <td>981</td>\n",
       "      <td>138</td>\n",
       "    </tr>\n",
       "    <tr>\n",
       "      <th>26938</th>\n",
       "      <td>26938</td>\n",
       "      <td>288</td>\n",
       "      <td>111</td>\n",
       "    </tr>\n",
       "    <tr>\n",
       "      <th>60956</th>\n",
       "      <td>60956</td>\n",
       "      <td>344</td>\n",
       "      <td>19</td>\n",
       "    </tr>\n",
       "    <tr>\n",
       "      <th>53369</th>\n",
       "      <td>53369</td>\n",
       "      <td>169</td>\n",
       "      <td>2</td>\n",
       "    </tr>\n",
       "  </tbody>\n",
       "</table>\n",
       "<p>20652 rows × 3 columns</p>\n",
       "</div>"
      ],
      "text/plain": [
       "          id  brand  category\n",
       "51956  51956    288         2\n",
       "48769  48769    852        38\n",
       "21755  21755    288        36\n",
       "53712  53712    288         2\n",
       "53583  53583    288         2\n",
       "...      ...    ...       ...\n",
       "21894  21894    288        36\n",
       "4718    4718    981       138\n",
       "26938  26938    288       111\n",
       "60956  60956    344        19\n",
       "53369  53369    169         2\n",
       "\n",
       "[20652 rows x 3 columns]"
      ]
     },
     "execution_count": 80,
     "metadata": {},
     "output_type": "execute_result"
    }
   ],
   "source": [
    "X_test"
   ]
  },
  {
   "cell_type": "code",
   "execution_count": 81,
   "id": "37cf1868",
   "metadata": {},
   "outputs": [
    {
     "data": {
      "text/plain": [
       "(20652,)"
      ]
     },
     "execution_count": 81,
     "metadata": {},
     "output_type": "execute_result"
    }
   ],
   "source": [
    "y_test.shape"
   ]
  },
  {
   "cell_type": "code",
   "execution_count": 82,
   "id": "1f518773",
   "metadata": {},
   "outputs": [],
   "source": [
    "\n",
    "lasso=Lasso()\n",
    "dt=DecisionTreeRegressor()\n",
    "knn=KNeighborsRegressor()\n",
    "poly_pipline = make_pipeline(\n",
    "    PolynomialFeatures(degree=4, include_bias=False),\n",
    "    LinearRegression() \n",
    ")\n",
    "models=[poly_pipline,lasso,dt,knn]\n",
    "for model in models:\n",
    "    model.fit(X_train, y_train)"
   ]
  },
  {
   "cell_type": "code",
   "execution_count": 83,
   "id": "2cfc588b",
   "metadata": {},
   "outputs": [
    {
     "name": "stdout",
     "output_type": "stream",
     "text": [
      "Pipeline(steps=[('polynomialfeatures',\n",
      "                 PolynomialFeatures(degree=4, include_bias=False)),\n",
      "                ('linearregression', LinearRegression())]): 45332958.132868 \n",
      "Lasso(): 57765081.690814 \n",
      "DecisionTreeRegressor(): 48150967.525043 \n",
      "KNeighborsRegressor(): 42823236.598349 \n"
     ]
    }
   ],
   "source": [
    "cv_results_rms = []\n",
    "for model in models:\n",
    "    cv_score = cross_val_score(model, X_train,y_train,scoring=\"neg_root_mean_squared_error\", cv=5)\n",
    "    cv_results_rms.append(cv_score)\n",
    "    print(\"%s: %f \" % (model, -1 * cv_score.mean()))"
   ]
  },
  {
   "cell_type": "code",
   "execution_count": 84,
   "id": "f76bbfae",
   "metadata": {},
   "outputs": [
    {
     "data": {
      "text/plain": [
       "15931632.70313771"
      ]
     },
     "execution_count": 84,
     "metadata": {},
     "output_type": "execute_result"
    }
   ],
   "source": [
    "df.price.mean()"
   ]
  },
  {
   "cell_type": "code",
   "execution_count": 86,
   "id": "57d5a238",
   "metadata": {},
   "outputs": [
    {
     "name": "stdout",
     "output_type": "stream",
     "text": [
      "R^2 decisionTree: 0.5846092397504223\n"
     ]
    }
   ],
   "source": [
    "y_dt_pred=dt.predict(X_test) \n",
    "print(\"R^2 decisionTree:\",r2_score(y_test, y_dt_pred))\n"
   ]
  },
  {
   "cell_type": "code",
   "execution_count": 87,
   "id": "fd2ae602",
   "metadata": {},
   "outputs": [
    {
     "name": "stdout",
     "output_type": "stream",
     "text": [
      "R^2 poly: 0.5246271044359281\n"
     ]
    }
   ],
   "source": [
    "y_poly_pred=poly_pipline.predict(X_test) \n",
    "print(\"R^2 poly:\",r2_score(y_test, y_poly_pred))"
   ]
  },
  {
   "cell_type": "code",
   "execution_count": 88,
   "id": "71e788a5",
   "metadata": {},
   "outputs": [
    {
     "name": "stdout",
     "output_type": "stream",
     "text": [
      "R^2 poly: 0.6080299118216961\n"
     ]
    }
   ],
   "source": [
    "y_knn_pred=knn.predict(X_test)\n",
    "print(\"R^2 poly:\",r2_score(y_test, y_knn_pred))"
   ]
  },
  {
   "cell_type": "markdown",
   "id": "0b468191",
   "metadata": {},
   "source": [
    "# -------------------------------------------------------------------------------------------------------------------"
   ]
  },
  {
   "cell_type": "code",
   "execution_count": 130,
   "id": "9d42e5a7",
   "metadata": {},
   "outputs": [],
   "source": [
    "df_test=pd.read_csv('data/test.csv')"
   ]
  },
  {
   "cell_type": "code",
   "execution_count": 131,
   "id": "89b97d8f",
   "metadata": {},
   "outputs": [],
   "source": [
    "import ast\n",
    "\n",
    "def convert_to_dict(string):\n",
    "    dic = ast.literal_eval(string)\n",
    "    return dic\n",
    "df_test['product_description_dic']=df_test['product_description'].apply(convert_to_dict)"
   ]
  },
  {
   "cell_type": "code",
   "execution_count": null,
   "id": "c85fe0d1",
   "metadata": {},
   "outputs": [],
   "source": []
  },
  {
   "cell_type": "code",
   "execution_count": 132,
   "id": "ef6ab4ec",
   "metadata": {},
   "outputs": [
    {
     "data": {
      "text/html": [
       "<div>\n",
       "<style scoped>\n",
       "    .dataframe tbody tr th:only-of-type {\n",
       "        vertical-align: middle;\n",
       "    }\n",
       "\n",
       "    .dataframe tbody tr th {\n",
       "        vertical-align: top;\n",
       "    }\n",
       "\n",
       "    .dataframe thead th {\n",
       "        text-align: right;\n",
       "    }\n",
       "</style>\n",
       "<table border=\"1\" class=\"dataframe\">\n",
       "  <thead>\n",
       "    <tr style=\"text-align: right;\">\n",
       "      <th></th>\n",
       "      <th>دسته بندی</th>\n",
       "      <th>برند</th>\n",
       "    </tr>\n",
       "  </thead>\n",
       "  <tbody>\n",
       "    <tr>\n",
       "      <th>0</th>\n",
       "      <td>باتری لپ‌تاپ</td>\n",
       "      <td>متفرقه</td>\n",
       "    </tr>\n",
       "    <tr>\n",
       "      <th>1</th>\n",
       "      <td>باتری لپ‌تاپ</td>\n",
       "      <td>متفرقه</td>\n",
       "    </tr>\n",
       "    <tr>\n",
       "      <th>2</th>\n",
       "      <td>استند و پایه خنک‌کننده</td>\n",
       "      <td>کیو وای اچ</td>\n",
       "    </tr>\n",
       "    <tr>\n",
       "      <th>3</th>\n",
       "      <td>باتری لپ‌تاپ</td>\n",
       "      <td>متفرقه</td>\n",
       "    </tr>\n",
       "    <tr>\n",
       "      <th>4</th>\n",
       "      <td>باتری لپ‌تاپ</td>\n",
       "      <td>متفرقه</td>\n",
       "    </tr>\n",
       "    <tr>\n",
       "      <th>...</th>\n",
       "      <td>...</td>\n",
       "      <td>...</td>\n",
       "    </tr>\n",
       "    <tr>\n",
       "      <th>34257</th>\n",
       "      <td>شارژر تبلت و موبایل</td>\n",
       "      <td>باسئوس</td>\n",
       "    </tr>\n",
       "    <tr>\n",
       "      <th>34258</th>\n",
       "      <td>شارژر تبلت و موبایل</td>\n",
       "      <td>متفرقه</td>\n",
       "    </tr>\n",
       "    <tr>\n",
       "      <th>34259</th>\n",
       "      <td>شارژر تبلت و موبایل</td>\n",
       "      <td>ریمکس</td>\n",
       "    </tr>\n",
       "    <tr>\n",
       "      <th>34260</th>\n",
       "      <td>شارژر تبلت و موبایل</td>\n",
       "      <td>متفرقه</td>\n",
       "    </tr>\n",
       "    <tr>\n",
       "      <th>34261</th>\n",
       "      <td>شارژر تبلت و موبایل</td>\n",
       "      <td>سن دیسک</td>\n",
       "    </tr>\n",
       "  </tbody>\n",
       "</table>\n",
       "<p>34262 rows × 2 columns</p>\n",
       "</div>"
      ],
      "text/plain": [
       "                    دسته بندی        برند\n",
       "0                باتری لپ‌تاپ      متفرقه\n",
       "1                باتری لپ‌تاپ      متفرقه\n",
       "2      استند و پایه خنک‌کننده  کیو وای اچ\n",
       "3                باتری لپ‌تاپ      متفرقه\n",
       "4                باتری لپ‌تاپ      متفرقه\n",
       "...                       ...         ...\n",
       "34257     شارژر تبلت و موبایل      باسئوس\n",
       "34258     شارژر تبلت و موبایل      متفرقه\n",
       "34259     شارژر تبلت و موبایل       ریمکس\n",
       "34260     شارژر تبلت و موبایل      متفرقه\n",
       "34261     شارژر تبلت و موبایل     سن دیسک\n",
       "\n",
       "[34262 rows x 2 columns]"
      ]
     },
     "execution_count": 132,
     "metadata": {},
     "output_type": "execute_result"
    }
   ],
   "source": [
    "\n",
    "def split_dict_column():\n",
    "    feature_list=['دسته بندی','برند']\n",
    "    dic={}\n",
    "    for feature_name in feature_list:\n",
    "        val_list=[]\n",
    "        for i in range(0,df_test.shape[0]):\n",
    "            key=list(df_test['product_description_dic'][i].keys())\n",
    "            for j in range(len(key)):\n",
    "                if key[j]==feature_name:\n",
    "                    val=list(df_test['product_description_dic'][i].values())[j]\n",
    "                    val_list.append(val)\n",
    "        dic[feature_name]=val_list\n",
    "    new_df=pd.DataFrame(dict([ (k,pd.Series(v)) for k,v in dic.items() ]))\n",
    "    result = pd.concat([df_test, new_df], axis=1)\n",
    "    result.drop(columns=['product_description_dic'],inplace=True)\n",
    "    result.to_csv('final_df_test.csv')\n",
    "    return new_df\n",
    "\n",
    "split_dict_column()\n",
    "\n",
    "\n"
   ]
  },
  {
   "cell_type": "code",
   "execution_count": 133,
   "id": "b514fc72",
   "metadata": {},
   "outputs": [],
   "source": [
    "df_test=pd.read_csv('final_df_test.csv')\n",
    "df_test['brand']=df_test['برند']\n",
    "df_test['category']=df_test['دسته بندی']\n",
    "df_test.drop(columns=['Unnamed: 0','برند','دسته بندی','product_description'],inplace=True)"
   ]
  },
  {
   "cell_type": "code",
   "execution_count": 134,
   "id": "689463f5",
   "metadata": {},
   "outputs": [],
   "source": [
    "cat_feature_list=['category','brand']\n",
    "for i in cat_feature_list:\n",
    "    df_test[i] = pd.Categorical(df_test[i])\n",
    "    df_test[i] = df_test[i].cat.codes\n",
    "    \n",
    "    \n"
   ]
  },
  {
   "cell_type": "code",
   "execution_count": 135,
   "id": "4e8066d7",
   "metadata": {},
   "outputs": [
    {
     "data": {
      "text/html": [
       "<div>\n",
       "<style scoped>\n",
       "    .dataframe tbody tr th:only-of-type {\n",
       "        vertical-align: middle;\n",
       "    }\n",
       "\n",
       "    .dataframe tbody tr th {\n",
       "        vertical-align: top;\n",
       "    }\n",
       "\n",
       "    .dataframe thead th {\n",
       "        text-align: right;\n",
       "    }\n",
       "</style>\n",
       "<table border=\"1\" class=\"dataframe\">\n",
       "  <thead>\n",
       "    <tr style=\"text-align: right;\">\n",
       "      <th></th>\n",
       "      <th>id</th>\n",
       "      <th>brand</th>\n",
       "      <th>category</th>\n",
       "    </tr>\n",
       "  </thead>\n",
       "  <tbody>\n",
       "    <tr>\n",
       "      <th>0</th>\n",
       "      <td>0</td>\n",
       "      <td>819</td>\n",
       "      <td>17</td>\n",
       "    </tr>\n",
       "    <tr>\n",
       "      <th>1</th>\n",
       "      <td>1</td>\n",
       "      <td>819</td>\n",
       "      <td>17</td>\n",
       "    </tr>\n",
       "    <tr>\n",
       "      <th>2</th>\n",
       "      <td>2</td>\n",
       "      <td>1238</td>\n",
       "      <td>7</td>\n",
       "    </tr>\n",
       "    <tr>\n",
       "      <th>3</th>\n",
       "      <td>3</td>\n",
       "      <td>819</td>\n",
       "      <td>17</td>\n",
       "    </tr>\n",
       "    <tr>\n",
       "      <th>4</th>\n",
       "      <td>4</td>\n",
       "      <td>819</td>\n",
       "      <td>17</td>\n",
       "    </tr>\n",
       "    <tr>\n",
       "      <th>...</th>\n",
       "      <td>...</td>\n",
       "      <td>...</td>\n",
       "      <td>...</td>\n",
       "    </tr>\n",
       "    <tr>\n",
       "      <th>34257</th>\n",
       "      <td>34257</td>\n",
       "      <td>300</td>\n",
       "      <td>71</td>\n",
       "    </tr>\n",
       "    <tr>\n",
       "      <th>34258</th>\n",
       "      <td>34258</td>\n",
       "      <td>819</td>\n",
       "      <td>71</td>\n",
       "    </tr>\n",
       "    <tr>\n",
       "      <th>34259</th>\n",
       "      <td>34259</td>\n",
       "      <td>576</td>\n",
       "      <td>71</td>\n",
       "    </tr>\n",
       "    <tr>\n",
       "      <th>34260</th>\n",
       "      <td>34260</td>\n",
       "      <td>819</td>\n",
       "      <td>71</td>\n",
       "    </tr>\n",
       "    <tr>\n",
       "      <th>34261</th>\n",
       "      <td>34261</td>\n",
       "      <td>639</td>\n",
       "      <td>71</td>\n",
       "    </tr>\n",
       "  </tbody>\n",
       "</table>\n",
       "<p>34262 rows × 3 columns</p>\n",
       "</div>"
      ],
      "text/plain": [
       "          id  brand  category\n",
       "0          0    819        17\n",
       "1          1    819        17\n",
       "2          2   1238         7\n",
       "3          3    819        17\n",
       "4          4    819        17\n",
       "...      ...    ...       ...\n",
       "34257  34257    300        71\n",
       "34258  34258    819        71\n",
       "34259  34259    576        71\n",
       "34260  34260    819        71\n",
       "34261  34261    639        71\n",
       "\n",
       "[34262 rows x 3 columns]"
      ]
     },
     "execution_count": 135,
     "metadata": {},
     "output_type": "execute_result"
    }
   ],
   "source": [
    "df_test\n"
   ]
  },
  {
   "cell_type": "code",
   "execution_count": null,
   "id": "208247cb",
   "metadata": {},
   "outputs": [],
   "source": []
  },
  {
   "cell_type": "code",
   "execution_count": 136,
   "id": "3b8f974e",
   "metadata": {},
   "outputs": [],
   "source": [
    "price=knn.predict(df_test) "
   ]
  },
  {
   "cell_type": "code",
   "execution_count": 137,
   "id": "ebf04d15",
   "metadata": {},
   "outputs": [],
   "source": [
    "price_df=pd.DataFrame(price)"
   ]
  },
  {
   "cell_type": "code",
   "execution_count": 138,
   "id": "c7f79b81",
   "metadata": {},
   "outputs": [],
   "source": [
    "price_df['price']=price_df[0]"
   ]
  },
  {
   "cell_type": "code",
   "execution_count": 146,
   "id": "7e32b078",
   "metadata": {},
   "outputs": [
    {
     "data": {
      "text/html": [
       "<div>\n",
       "<style scoped>\n",
       "    .dataframe tbody tr th:only-of-type {\n",
       "        vertical-align: middle;\n",
       "    }\n",
       "\n",
       "    .dataframe tbody tr th {\n",
       "        vertical-align: top;\n",
       "    }\n",
       "\n",
       "    .dataframe thead th {\n",
       "        text-align: right;\n",
       "    }\n",
       "</style>\n",
       "<table border=\"1\" class=\"dataframe\">\n",
       "  <thead>\n",
       "    <tr style=\"text-align: right;\">\n",
       "      <th></th>\n",
       "      <th>id</th>\n",
       "      <th>price</th>\n",
       "    </tr>\n",
       "  </thead>\n",
       "  <tbody>\n",
       "    <tr>\n",
       "      <th>0</th>\n",
       "      <td>0</td>\n",
       "      <td>4088000.0</td>\n",
       "    </tr>\n",
       "    <tr>\n",
       "      <th>1</th>\n",
       "      <td>1</td>\n",
       "      <td>4088000.0</td>\n",
       "    </tr>\n",
       "    <tr>\n",
       "      <th>2</th>\n",
       "      <td>2</td>\n",
       "      <td>2780000.0</td>\n",
       "    </tr>\n",
       "    <tr>\n",
       "      <th>3</th>\n",
       "      <td>3</td>\n",
       "      <td>4088000.0</td>\n",
       "    </tr>\n",
       "    <tr>\n",
       "      <th>4</th>\n",
       "      <td>4</td>\n",
       "      <td>4088000.0</td>\n",
       "    </tr>\n",
       "    <tr>\n",
       "      <th>...</th>\n",
       "      <td>...</td>\n",
       "      <td>...</td>\n",
       "    </tr>\n",
       "    <tr>\n",
       "      <th>34257</th>\n",
       "      <td>34257</td>\n",
       "      <td>312000.0</td>\n",
       "    </tr>\n",
       "    <tr>\n",
       "      <th>34258</th>\n",
       "      <td>34258</td>\n",
       "      <td>2009378.0</td>\n",
       "    </tr>\n",
       "    <tr>\n",
       "      <th>34259</th>\n",
       "      <td>34259</td>\n",
       "      <td>4617600.0</td>\n",
       "    </tr>\n",
       "    <tr>\n",
       "      <th>34260</th>\n",
       "      <td>34260</td>\n",
       "      <td>2009378.0</td>\n",
       "    </tr>\n",
       "    <tr>\n",
       "      <th>34261</th>\n",
       "      <td>34261</td>\n",
       "      <td>3692200.0</td>\n",
       "    </tr>\n",
       "  </tbody>\n",
       "</table>\n",
       "<p>34262 rows × 2 columns</p>\n",
       "</div>"
      ],
      "text/plain": [
       "          id      price\n",
       "0          0  4088000.0\n",
       "1          1  4088000.0\n",
       "2          2  2780000.0\n",
       "3          3  4088000.0\n",
       "4          4  4088000.0\n",
       "...      ...        ...\n",
       "34257  34257   312000.0\n",
       "34258  34258  2009378.0\n",
       "34259  34259  4617600.0\n",
       "34260  34260  2009378.0\n",
       "34261  34261  3692200.0\n",
       "\n",
       "[34262 rows x 2 columns]"
      ]
     },
     "execution_count": 146,
     "metadata": {},
     "output_type": "execute_result"
    }
   ],
   "source": [
    "result"
   ]
  },
  {
   "cell_type": "code",
   "execution_count": 140,
   "id": "28131a19",
   "metadata": {},
   "outputs": [],
   "source": [
    "result = pd.concat([df_test, price_df], axis=1)"
   ]
  },
  {
   "cell_type": "code",
   "execution_count": 143,
   "id": "0aac8519",
   "metadata": {},
   "outputs": [],
   "source": [
    "result.drop(columns=['brand','category',0],inplace=True)"
   ]
  },
  {
   "cell_type": "code",
   "execution_count": 151,
   "id": "d680cd0a",
   "metadata": {},
   "outputs": [],
   "source": [
    "result.to_csv('output.csv',index=False)"
   ]
  },
  {
   "cell_type": "code",
   "execution_count": 152,
   "id": "f08146f9",
   "metadata": {},
   "outputs": [
    {
     "data": {
      "text/html": [
       "<div>\n",
       "<style scoped>\n",
       "    .dataframe tbody tr th:only-of-type {\n",
       "        vertical-align: middle;\n",
       "    }\n",
       "\n",
       "    .dataframe tbody tr th {\n",
       "        vertical-align: top;\n",
       "    }\n",
       "\n",
       "    .dataframe thead th {\n",
       "        text-align: right;\n",
       "    }\n",
       "</style>\n",
       "<table border=\"1\" class=\"dataframe\">\n",
       "  <thead>\n",
       "    <tr style=\"text-align: right;\">\n",
       "      <th></th>\n",
       "      <th>id</th>\n",
       "      <th>price</th>\n",
       "    </tr>\n",
       "  </thead>\n",
       "  <tbody>\n",
       "    <tr>\n",
       "      <th>0</th>\n",
       "      <td>0</td>\n",
       "      <td>4088000.0</td>\n",
       "    </tr>\n",
       "    <tr>\n",
       "      <th>1</th>\n",
       "      <td>1</td>\n",
       "      <td>4088000.0</td>\n",
       "    </tr>\n",
       "    <tr>\n",
       "      <th>2</th>\n",
       "      <td>2</td>\n",
       "      <td>2780000.0</td>\n",
       "    </tr>\n",
       "    <tr>\n",
       "      <th>3</th>\n",
       "      <td>3</td>\n",
       "      <td>4088000.0</td>\n",
       "    </tr>\n",
       "    <tr>\n",
       "      <th>4</th>\n",
       "      <td>4</td>\n",
       "      <td>4088000.0</td>\n",
       "    </tr>\n",
       "    <tr>\n",
       "      <th>...</th>\n",
       "      <td>...</td>\n",
       "      <td>...</td>\n",
       "    </tr>\n",
       "    <tr>\n",
       "      <th>34257</th>\n",
       "      <td>34257</td>\n",
       "      <td>312000.0</td>\n",
       "    </tr>\n",
       "    <tr>\n",
       "      <th>34258</th>\n",
       "      <td>34258</td>\n",
       "      <td>2009378.0</td>\n",
       "    </tr>\n",
       "    <tr>\n",
       "      <th>34259</th>\n",
       "      <td>34259</td>\n",
       "      <td>4617600.0</td>\n",
       "    </tr>\n",
       "    <tr>\n",
       "      <th>34260</th>\n",
       "      <td>34260</td>\n",
       "      <td>2009378.0</td>\n",
       "    </tr>\n",
       "    <tr>\n",
       "      <th>34261</th>\n",
       "      <td>34261</td>\n",
       "      <td>3692200.0</td>\n",
       "    </tr>\n",
       "  </tbody>\n",
       "</table>\n",
       "<p>34262 rows × 2 columns</p>\n",
       "</div>"
      ],
      "text/plain": [
       "          id      price\n",
       "0          0  4088000.0\n",
       "1          1  4088000.0\n",
       "2          2  2780000.0\n",
       "3          3  4088000.0\n",
       "4          4  4088000.0\n",
       "...      ...        ...\n",
       "34257  34257   312000.0\n",
       "34258  34258  2009378.0\n",
       "34259  34259  4617600.0\n",
       "34260  34260  2009378.0\n",
       "34261  34261  3692200.0\n",
       "\n",
       "[34262 rows x 2 columns]"
      ]
     },
     "execution_count": 152,
     "metadata": {},
     "output_type": "execute_result"
    }
   ],
   "source": [
    "pd.read_csv('output.csv')"
   ]
  },
  {
   "cell_type": "code",
   "execution_count": null,
   "id": "d0b37174",
   "metadata": {},
   "outputs": [],
   "source": []
  }
 ],
 "metadata": {
  "kernelspec": {
   "display_name": "Python 3 (ipykernel)",
   "language": "python",
   "name": "python3"
  },
  "language_info": {
   "codemirror_mode": {
    "name": "ipython",
    "version": 3
   },
   "file_extension": ".py",
   "mimetype": "text/x-python",
   "name": "python",
   "nbconvert_exporter": "python",
   "pygments_lexer": "ipython3",
   "version": "3.9.7"
  }
 },
 "nbformat": 4,
 "nbformat_minor": 5
}
