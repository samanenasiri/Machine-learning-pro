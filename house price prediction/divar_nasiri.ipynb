{
 "cells": [
  {
   "cell_type": "code",
   "execution_count": 29,
   "id": "5a78b836-6670-4e2a-8fd1-62d5bc37e8bb",
   "metadata": {},
   "outputs": [],
   "source": [
    "import numpy as np\n",
    "import pandas as pd\n",
    "import matplotlib.pyplot as plt\n",
    "import re\n",
    "import sklearn \n",
    "import seaborn as sns"
   ]
  },
  {
   "cell_type": "code",
   "execution_count": 43,
   "id": "64ac12fd-fb33-4a2c-b7d3-896755b255fb",
   "metadata": {},
   "outputs": [
    {
     "name": "stdout",
     "output_type": "stream",
     "text": [
      "Requirement already satisfied: unidecode in c:\\users\\mehr\\appdata\\local\\programs\\python\\python39-32\\lib\\site-packages (1.3.4)\n"
     ]
    },
    {
     "name": "stderr",
     "output_type": "stream",
     "text": [
      "WARNING: You are using pip version 21.3.1; however, version 22.1 is available.\n",
      "You should consider upgrading via the 'C:\\Users\\Mehr\\AppData\\Local\\Programs\\Python\\Python39-32\\python.exe -m pip install --upgrade pip' command.\n"
     ]
    }
   ],
   "source": [
    "!pip install unidecode"
   ]
  },
  {
   "cell_type": "code",
   "execution_count": 143,
   "id": "b5214e14-1976-4c28-be01-cbbfaf1bebaa",
   "metadata": {},
   "outputs": [],
   "source": [
    "alireza_df = pd.read_json('alireza_divar_data.json')\n",
    "shabani_df = pd.read_json('divar_homes_last_month_92-148.json')\n",
    "nasiri_df = pd.read_json('divar_homes_last_two_weeks.json')\n",
    "mobini_df = pd.read_json('divar_houses.json')"
   ]
  },
  {
   "cell_type": "code",
   "execution_count": null,
   "id": "fc3e3fb7-c0d2-49f4-9ae9-9759b3e0a7b8",
   "metadata": {},
   "outputs": [],
   "source": [
    "divar_df = pd.concat([alireza_df, shabani_df, nasiri_df, mobini_df])"
   ]
  },
  {
   "cell_type": "markdown",
   "id": "1ff733f6",
   "metadata": {},
   "source": [
    "# removing:\n",
    "   <p> 1.some columns such as ELEVATOR, TEXTURE,WC, SUNNY,BALCONY,CABINET, SNOWFLAKE, THERMOMETER,\n",
    "آژانس املاک,انباری ندارد,پارکینگ ندارد\n",
    "    have lots of null value (80%) you should drop them out cause you can't do anything eith them </p>\n",
    "    <p>2. featcher 'قیمت هر متر ' it's written in persain and its object and include both string number and (,) it;s to hard to convert it to float\n",
    "    it's better to drop it out\n",
    "    ...</p>"
   ]
  },
  {
   "cell_type": "code",
   "execution_count": 145,
   "id": "baf36843-a651-471a-b1bc-a54934826063",
   "metadata": {},
   "outputs": [],
   "source": [
    "columns = [\n",
    "    'قیمت هر متر','آژانس املاک', 'انباری ندارد', 'پارکینگ ندارد',\n",
    "    'ELEVATOR', 'TEXTURE', 'WC', 'SUNNY', 'SNOWFLAKE', 'THERMOMETER',\n",
    "    'BALCONY','CABINET', 'آگهی‌دهنده',\n",
    "    'وضعیت واحد', 'جهت ساختمان', 'سند', 'آسانسور ندارد', 'PARKING',\n",
    "    'تعداد واحد در طبقه', 'قیمت کل', 'کد ملی صاحب آگهی'\n",
    "]"
   ]
  },
  {
   "cell_type": "code",
   "execution_count": 146,
   "id": "4e2c1814-eaaf-4423-896f-80575d3e6666",
   "metadata": {},
   "outputs": [],
   "source": [
    "divar_df.drop(columns, axis = 1, inplace = True)"
   ]
  },
  {
   "cell_type": "code",
   "execution_count": 147,
   "id": "43597885-7f9e-4df3-81cf-39e5638b6466",
   "metadata": {},
   "outputs": [
    {
     "data": {
      "text/html": [
       "<div>\n",
       "<style scoped>\n",
       "    .dataframe tbody tr th:only-of-type {\n",
       "        vertical-align: middle;\n",
       "    }\n",
       "\n",
       "    .dataframe tbody tr th {\n",
       "        vertical-align: top;\n",
       "    }\n",
       "\n",
       "    .dataframe thead th {\n",
       "        text-align: right;\n",
       "    }\n",
       "</style>\n",
       "<table border=\"1\" class=\"dataframe\">\n",
       "  <thead>\n",
       "    <tr style=\"text-align: right;\">\n",
       "      <th></th>\n",
       "      <th>district</th>\n",
       "      <th>business_type</th>\n",
       "      <th>price</th>\n",
       "      <th>متراژ</th>\n",
       "      <th>ساخت</th>\n",
       "      <th>اتاق</th>\n",
       "      <th>طبقه</th>\n",
       "      <th>آسانسور</th>\n",
       "      <th>پارکینگ</th>\n",
       "      <th>انباری</th>\n",
       "    </tr>\n",
       "  </thead>\n",
       "  <tbody>\n",
       "    <tr>\n",
       "      <th>0</th>\n",
       "      <td>992</td>\n",
       "      <td>real-estate-business</td>\n",
       "      <td>3.320000e+09</td>\n",
       "      <td>۱۱۳</td>\n",
       "      <td>۱۳۹۵</td>\n",
       "      <td>۲</td>\n",
       "      <td>۱</td>\n",
       "      <td>True</td>\n",
       "      <td>True</td>\n",
       "      <td>NaN</td>\n",
       "    </tr>\n",
       "    <tr>\n",
       "      <th>1</th>\n",
       "      <td>925</td>\n",
       "      <td>real-estate-business</td>\n",
       "      <td>9.200000e+09</td>\n",
       "      <td>۱۱۴</td>\n",
       "      <td>۱۴۰۰</td>\n",
       "      <td>۳</td>\n",
       "      <td>۱</td>\n",
       "      <td>True</td>\n",
       "      <td>True</td>\n",
       "      <td>1.0</td>\n",
       "    </tr>\n",
       "    <tr>\n",
       "      <th>2</th>\n",
       "      <td>40</td>\n",
       "      <td>real-estate-business</td>\n",
       "      <td>1.400000e+10</td>\n",
       "      <td>۱۶۵</td>\n",
       "      <td>۱۳۹۷</td>\n",
       "      <td>۳</td>\n",
       "      <td>۲</td>\n",
       "      <td>True</td>\n",
       "      <td>True</td>\n",
       "      <td>1.0</td>\n",
       "    </tr>\n",
       "    <tr>\n",
       "      <th>3</th>\n",
       "      <td>925</td>\n",
       "      <td>real-estate-business</td>\n",
       "      <td>8.900000e+09</td>\n",
       "      <td>۱۲۸</td>\n",
       "      <td>۱۳۸۹</td>\n",
       "      <td>۳</td>\n",
       "      <td>۱ از ۴</td>\n",
       "      <td>True</td>\n",
       "      <td>True</td>\n",
       "      <td>1.0</td>\n",
       "    </tr>\n",
       "    <tr>\n",
       "      <th>4</th>\n",
       "      <td>925</td>\n",
       "      <td>real-estate-business</td>\n",
       "      <td>1.391000e+09</td>\n",
       "      <td>۱۳۰</td>\n",
       "      <td>۱۴۰۰</td>\n",
       "      <td>۳</td>\n",
       "      <td>۱۱ از ۱۴</td>\n",
       "      <td>True</td>\n",
       "      <td>True</td>\n",
       "      <td>1.0</td>\n",
       "    </tr>\n",
       "    <tr>\n",
       "      <th>...</th>\n",
       "      <td>...</td>\n",
       "      <td>...</td>\n",
       "      <td>...</td>\n",
       "      <td>...</td>\n",
       "      <td>...</td>\n",
       "      <td>...</td>\n",
       "      <td>...</td>\n",
       "      <td>...</td>\n",
       "      <td>...</td>\n",
       "      <td>...</td>\n",
       "    </tr>\n",
       "    <tr>\n",
       "      <th>21791</th>\n",
       "      <td>64</td>\n",
       "      <td>real-estate-business</td>\n",
       "      <td>1.420000e+10</td>\n",
       "      <td>190</td>\n",
       "      <td>۱۳۸۵</td>\n",
       "      <td>۳</td>\n",
       "      <td>۵</td>\n",
       "      <td>1.0</td>\n",
       "      <td>1.0</td>\n",
       "      <td>1.0</td>\n",
       "    </tr>\n",
       "    <tr>\n",
       "      <th>21792</th>\n",
       "      <td>64</td>\n",
       "      <td>real-estate-business</td>\n",
       "      <td>1.105500e+10</td>\n",
       "      <td>165</td>\n",
       "      <td>۱۳۸۷</td>\n",
       "      <td>۳</td>\n",
       "      <td>۴ از ۵</td>\n",
       "      <td>1.0</td>\n",
       "      <td>1.0</td>\n",
       "      <td>1.0</td>\n",
       "    </tr>\n",
       "    <tr>\n",
       "      <th>21793</th>\n",
       "      <td>994</td>\n",
       "      <td>real-estate-business</td>\n",
       "      <td>NaN</td>\n",
       "      <td>1000</td>\n",
       "      <td>۱۴۰۰</td>\n",
       "      <td>+۴</td>\n",
       "      <td>۷</td>\n",
       "      <td>1.0</td>\n",
       "      <td>1.0</td>\n",
       "      <td>1.0</td>\n",
       "    </tr>\n",
       "    <tr>\n",
       "      <th>21794</th>\n",
       "      <td>300</td>\n",
       "      <td>personal</td>\n",
       "      <td>5.100000e+09</td>\n",
       "      <td>79</td>\n",
       "      <td>۱۴۰۰</td>\n",
       "      <td>۲</td>\n",
       "      <td>۲</td>\n",
       "      <td>1.0</td>\n",
       "      <td>1.0</td>\n",
       "      <td>1.0</td>\n",
       "    </tr>\n",
       "    <tr>\n",
       "      <th>21795</th>\n",
       "      <td>64</td>\n",
       "      <td>real-estate-business</td>\n",
       "      <td>5.160000e+10</td>\n",
       "      <td>240</td>\n",
       "      <td>۱۴۰۰</td>\n",
       "      <td>۳</td>\n",
       "      <td>۶ از ۸</td>\n",
       "      <td>1.0</td>\n",
       "      <td>1.0</td>\n",
       "      <td>1.0</td>\n",
       "    </tr>\n",
       "  </tbody>\n",
       "</table>\n",
       "<p>186905 rows × 10 columns</p>\n",
       "</div>"
      ],
      "text/plain": [
       "       district         business_type         price متراژ  ساخت اتاق  \\\n",
       "0           992  real-estate-business  3.320000e+09   ۱۱۳  ۱۳۹۵    ۲   \n",
       "1           925  real-estate-business  9.200000e+09   ۱۱۴  ۱۴۰۰    ۳   \n",
       "2            40  real-estate-business  1.400000e+10   ۱۶۵  ۱۳۹۷    ۳   \n",
       "3           925  real-estate-business  8.900000e+09   ۱۲۸  ۱۳۸۹    ۳   \n",
       "4           925  real-estate-business  1.391000e+09   ۱۳۰  ۱۴۰۰    ۳   \n",
       "...         ...                   ...           ...   ...   ...  ...   \n",
       "21791        64  real-estate-business  1.420000e+10   190  ۱۳۸۵    ۳   \n",
       "21792        64  real-estate-business  1.105500e+10   165  ۱۳۸۷    ۳   \n",
       "21793       994  real-estate-business           NaN  1000  ۱۴۰۰   +۴   \n",
       "21794       300              personal  5.100000e+09    79  ۱۴۰۰    ۲   \n",
       "21795        64  real-estate-business  5.160000e+10   240  ۱۴۰۰    ۳   \n",
       "\n",
       "           طبقه آسانسور پارکینگ  انباری  \n",
       "0             ۱    True    True     NaN  \n",
       "1             ۱    True    True     1.0  \n",
       "2             ۲    True    True     1.0  \n",
       "3        ۱ از ۴    True    True     1.0  \n",
       "4      ۱۱ از ۱۴    True    True     1.0  \n",
       "...         ...     ...     ...     ...  \n",
       "21791         ۵     1.0     1.0     1.0  \n",
       "21792    ۴ از ۵     1.0     1.0     1.0  \n",
       "21793         ۷     1.0     1.0     1.0  \n",
       "21794         ۲     1.0     1.0     1.0  \n",
       "21795    ۶ از ۸     1.0     1.0     1.0  \n",
       "\n",
       "[186905 rows x 10 columns]"
      ]
     },
     "execution_count": 147,
     "metadata": {},
     "output_type": "execute_result"
    }
   ],
   "source": [
    "divar_df"
   ]
  },
  {
   "cell_type": "markdown",
   "id": "db1a049b",
   "metadata": {},
   "source": [
    "### persian columns  to English columns journey:"
   ]
  },
  {
   "cell_type": "code",
   "execution_count": 148,
   "id": "9ea89da4-52cc-43b4-9dc9-b9c78c0d7538",
   "metadata": {},
   "outputs": [],
   "source": [
    "from unidecode import unidecode\n",
    "def ConvertNumbers(persian_int):\n",
    "        return unidecode(f\"{persian_int}\")   "
   ]
  },
  {
   "cell_type": "code",
   "execution_count": 149,
   "id": "17433015-1aaf-4a65-8fd6-23256ccf1944",
   "metadata": {},
   "outputs": [],
   "source": [
    "names_to_change = {\n",
    "    'متراژ': 'area'\n",
    "    , 'ساخت': 'construct_date'\n",
    "    , 'اتاق' : 'rooms'\n",
    "    , 'طبقه' : 'floor'\n",
    "    , 'آسانسور' : 'elevator'\n",
    "    , 'پارکینگ' : 'parking'\n",
    "    , 'انباری' : 'basement'\n",
    "}\n",
    "divar_df.rename(columns = names_to_change, inplace = True)"
   ]
  },
  {
   "cell_type": "markdown",
   "id": "5a724e1e",
   "metadata": {},
   "source": [
    "# fillna:\n",
    "   the apartments can have elevator , parking ,...  or not\n",
    "   if not the dataset fills with null value convert them to 0 to have binary value :)"
   ]
  },
  {
   "cell_type": "code",
   "execution_count": 150,
   "id": "578d5b51",
   "metadata": {},
   "outputs": [],
   "source": [
    "fillna_columns = {'elevator':0.0, 'parking': 0.0, 'basement': 0.0}\n",
    "divar_df.fillna(fillna_columns, inplace=True)\n",
    "divar_df.dropna(axis=0, inplace=True)"
   ]
  },
  {
   "cell_type": "code",
   "execution_count": 151,
   "id": "5ccc701a-8455-4cec-a817-e87a651c0c64",
   "metadata": {},
   "outputs": [],
   "source": [
    "convert_columns = 'area rooms construct_date floor'.split()\n",
    "for col in convert_columns:\n",
    "    divar_df[col] = divar_df[col].apply(ConvertNumbers)"
   ]
  },
  {
   "cell_type": "markdown",
   "id": "bdb7f0f8",
   "metadata": {},
   "source": [
    "# <h5> floor, room and construct date columns are object, sadly they have both number and string value to </h5>\n",
    "  <p>  first convert object to number (still it's string don't forget you have to use detype or to_numeric method\n",
    "    to convert them to float or int)</p>\n",
    "    \n"
   ]
  },
  {
   "cell_type": "code",
   "execution_count": 153,
   "id": "318dbab7",
   "metadata": {},
   "outputs": [],
   "source": [
    "floor_pattern = {'hmkhf': '0', 'zyrhmkhf': '-1'}\n",
    "room_pattern = {'+4': '5', 'bdwn tq': '0'}\n",
    "construct_date_pattern = {'qbl z 1370': '1369'}\n",
    "def replace_pattern(pattern_dict, column_name):  \n",
    "    for pattern in pattern_dict.keys():\n",
    "        divar_df[column_name].replace(to_replace=pattern, value=pattern_dict[pattern], inplace=True)\n",
    "\n",
    "replace_pattern(floor_pattern, 'floor')\n",
    "replace_pattern(room_pattern, 'rooms')\n",
    "replace_pattern(construct_date_pattern, 'construct_date')"
   ]
  },
  {
   "cell_type": "markdown",
   "id": "f95fb1ef",
   "metadata": {},
   "source": [
    "##### second:\n",
    "    floor column has two value current floor and total floor of the building; use split method to split them :\\"
   ]
  },
  {
   "cell_type": "code",
   "execution_count": 158,
   "id": "b6cd94da-a6fc-44c7-85e8-e0d7db18b3af",
   "metadata": {},
   "outputs": [
    {
     "name": "stdout",
     "output_type": "stream",
     "text": [
      "here\n",
      "here\n",
      "here\n"
     ]
    }
   ],
   "source": [
    "def split_floors(x):\n",
    "    result = None\n",
    "    floor = x.split()\n",
    "    if 'hmkhf' in x:\n",
    "        result = ('0', floor[-1])\n",
    "    elif 'zyrhmkhf' in x:\n",
    "        result = ('-1', floor[-1])\n",
    "    elif 'byshtr' in x:\n",
    "        result = (floor[0], floor[-1])\n",
    "    elif '30+' in x:\n",
    "        print('here')\n",
    "        result = ('31', '31')\n",
    "    else:\n",
    "        result = re.findall('\\d+', x)\n",
    "    return result\n",
    "\n",
    "def total_floors(x):\n",
    "    try:\n",
    "        return x[1]\n",
    "    except:\n",
    "        return x[0]\n",
    "\n",
    "floors = divar_df['floor'].apply(split_floors)"
   ]
  },
  {
   "cell_type": "code",
   "execution_count": 159,
   "id": "6fb9b228",
   "metadata": {},
   "outputs": [],
   "source": [
    "divar_df['floor'] = floors.apply(lambda x: x[0])\n",
    "divar_df['total_floor'] = floors.apply(total_floors)"
   ]
  },
  {
   "cell_type": "markdown",
   "id": "996b5192",
   "metadata": {},
   "source": [
    "### Categorical:\n",
    "    business_type has two values(real-estate-business and personal) maybe it'll be use full don't waste it(bacause it doesn't have null)\n",
    "    just convert it to category to have 0,1 value inplace of each value"
   ]
  },
  {
   "cell_type": "code",
   "execution_count": 160,
   "id": "999ff00e",
   "metadata": {},
   "outputs": [],
   "source": [
    "divar_df.business_type = pd.Categorical(divar_df['business_type'])\n",
    "divar_df.business_type = divar_df.business_type.cat.codes"
   ]
  },
  {
   "cell_type": "markdown",
   "id": "857cd8f3",
   "metadata": {},
   "source": [
    "##### <p>descriptions above </p>"
   ]
  },
  {
   "cell_type": "code",
   "execution_count": 161,
   "id": "9683fec6",
   "metadata": {},
   "outputs": [],
   "source": [
    "convert_to_numeric = 'area rooms floor total_floor construct_date parking elevator'.split()\n",
    "for i in convert_to_numeric: \n",
    "    divar_df[i] = pd.to_numeric(divar_df[i])"
   ]
  },
  {
   "cell_type": "markdown",
   "id": "d70d97c4",
   "metadata": {},
   "source": [
    "#### if you have error in this cell run thirdcell later again"
   ]
  },
  {
   "cell_type": "code",
   "execution_count": 162,
   "id": "a1951839",
   "metadata": {},
   "outputs": [],
   "source": [
    "divar_df['per_meter'] = round(divar_df['price'] / divar_df['area'], 2)"
   ]
  },
  {
   "cell_type": "code",
   "execution_count": 163,
   "id": "b4c4bfd8",
   "metadata": {},
   "outputs": [
    {
     "data": {
      "text/html": [
       "<div>\n",
       "<style scoped>\n",
       "    .dataframe tbody tr th:only-of-type {\n",
       "        vertical-align: middle;\n",
       "    }\n",
       "\n",
       "    .dataframe tbody tr th {\n",
       "        vertical-align: top;\n",
       "    }\n",
       "\n",
       "    .dataframe thead th {\n",
       "        text-align: right;\n",
       "    }\n",
       "</style>\n",
       "<table border=\"1\" class=\"dataframe\">\n",
       "  <thead>\n",
       "    <tr style=\"text-align: right;\">\n",
       "      <th></th>\n",
       "      <th>count</th>\n",
       "      <th>mean</th>\n",
       "      <th>std</th>\n",
       "      <th>min</th>\n",
       "      <th>25%</th>\n",
       "      <th>50%</th>\n",
       "      <th>75%</th>\n",
       "      <th>max</th>\n",
       "    </tr>\n",
       "    <tr>\n",
       "      <th>district</th>\n",
       "      <th></th>\n",
       "      <th></th>\n",
       "      <th></th>\n",
       "      <th></th>\n",
       "      <th></th>\n",
       "      <th></th>\n",
       "      <th></th>\n",
       "      <th></th>\n",
       "    </tr>\n",
       "  </thead>\n",
       "  <tbody>\n",
       "    <tr>\n",
       "      <th>40</th>\n",
       "      <td>847.0</td>\n",
       "      <td>9.833697e+07</td>\n",
       "      <td>3.012859e+07</td>\n",
       "      <td>7500000.00</td>\n",
       "      <td>8.000000e+07</td>\n",
       "      <td>9.361702e+07</td>\n",
       "      <td>1.100000e+08</td>\n",
       "      <td>2.500000e+08</td>\n",
       "    </tr>\n",
       "    <tr>\n",
       "      <th>44</th>\n",
       "      <td>34.0</td>\n",
       "      <td>8.881523e+07</td>\n",
       "      <td>2.608187e+07</td>\n",
       "      <td>23412698.41</td>\n",
       "      <td>7.333333e+07</td>\n",
       "      <td>8.750000e+07</td>\n",
       "      <td>1.079295e+08</td>\n",
       "      <td>1.400000e+08</td>\n",
       "    </tr>\n",
       "    <tr>\n",
       "      <th>45</th>\n",
       "      <td>78.0</td>\n",
       "      <td>8.004311e+07</td>\n",
       "      <td>3.879804e+07</td>\n",
       "      <td>16250000.00</td>\n",
       "      <td>6.000000e+07</td>\n",
       "      <td>7.666667e+07</td>\n",
       "      <td>9.018182e+07</td>\n",
       "      <td>2.000000e+08</td>\n",
       "    </tr>\n",
       "    <tr>\n",
       "      <th>48</th>\n",
       "      <td>1413.0</td>\n",
       "      <td>1.003880e+08</td>\n",
       "      <td>6.196347e+07</td>\n",
       "      <td>5300000.00</td>\n",
       "      <td>6.687500e+07</td>\n",
       "      <td>8.800000e+07</td>\n",
       "      <td>1.212121e+08</td>\n",
       "      <td>9.600000e+08</td>\n",
       "    </tr>\n",
       "    <tr>\n",
       "      <th>49</th>\n",
       "      <td>120.0</td>\n",
       "      <td>6.010692e+07</td>\n",
       "      <td>1.167100e+07</td>\n",
       "      <td>42372881.36</td>\n",
       "      <td>5.093939e+07</td>\n",
       "      <td>5.777050e+07</td>\n",
       "      <td>6.740370e+07</td>\n",
       "      <td>9.000000e+07</td>\n",
       "    </tr>\n",
       "    <tr>\n",
       "      <th>...</th>\n",
       "      <td>...</td>\n",
       "      <td>...</td>\n",
       "      <td>...</td>\n",
       "      <td>...</td>\n",
       "      <td>...</td>\n",
       "      <td>...</td>\n",
       "      <td>...</td>\n",
       "      <td>...</td>\n",
       "    </tr>\n",
       "    <tr>\n",
       "      <th>1028</th>\n",
       "      <td>489.0</td>\n",
       "      <td>5.658534e+07</td>\n",
       "      <td>3.855384e+07</td>\n",
       "      <td>11000000.00</td>\n",
       "      <td>4.661017e+07</td>\n",
       "      <td>5.338983e+07</td>\n",
       "      <td>6.250000e+07</td>\n",
       "      <td>6.303030e+08</td>\n",
       "    </tr>\n",
       "    <tr>\n",
       "      <th>1030</th>\n",
       "      <td>163.0</td>\n",
       "      <td>3.018686e+07</td>\n",
       "      <td>7.364371e+06</td>\n",
       "      <td>5400000.00</td>\n",
       "      <td>2.934267e+07</td>\n",
       "      <td>3.142857e+07</td>\n",
       "      <td>3.374026e+07</td>\n",
       "      <td>6.000000e+07</td>\n",
       "    </tr>\n",
       "    <tr>\n",
       "      <th>1033</th>\n",
       "      <td>41.0</td>\n",
       "      <td>1.731857e+07</td>\n",
       "      <td>4.687285e+06</td>\n",
       "      <td>9000000.00</td>\n",
       "      <td>1.531532e+07</td>\n",
       "      <td>1.648649e+07</td>\n",
       "      <td>2.000000e+07</td>\n",
       "      <td>3.500000e+07</td>\n",
       "    </tr>\n",
       "    <tr>\n",
       "      <th>1034</th>\n",
       "      <td>105.0</td>\n",
       "      <td>3.054322e+07</td>\n",
       "      <td>8.031858e+06</td>\n",
       "      <td>3076923.08</td>\n",
       "      <td>2.784091e+07</td>\n",
       "      <td>3.191489e+07</td>\n",
       "      <td>3.500000e+07</td>\n",
       "      <td>4.949600e+07</td>\n",
       "    </tr>\n",
       "    <tr>\n",
       "      <th>1035</th>\n",
       "      <td>15.0</td>\n",
       "      <td>7.195408e+07</td>\n",
       "      <td>2.147521e+07</td>\n",
       "      <td>12400000.00</td>\n",
       "      <td>6.489796e+07</td>\n",
       "      <td>7.037037e+07</td>\n",
       "      <td>8.272152e+07</td>\n",
       "      <td>1.012270e+08</td>\n",
       "    </tr>\n",
       "  </tbody>\n",
       "</table>\n",
       "<p>215 rows × 8 columns</p>\n",
       "</div>"
      ],
      "text/plain": [
       "           count          mean           std          min           25%  \\\n",
       "district                                                                  \n",
       "40         847.0  9.833697e+07  3.012859e+07   7500000.00  8.000000e+07   \n",
       "44          34.0  8.881523e+07  2.608187e+07  23412698.41  7.333333e+07   \n",
       "45          78.0  8.004311e+07  3.879804e+07  16250000.00  6.000000e+07   \n",
       "48        1413.0  1.003880e+08  6.196347e+07   5300000.00  6.687500e+07   \n",
       "49         120.0  6.010692e+07  1.167100e+07  42372881.36  5.093939e+07   \n",
       "...          ...           ...           ...          ...           ...   \n",
       "1028       489.0  5.658534e+07  3.855384e+07  11000000.00  4.661017e+07   \n",
       "1030       163.0  3.018686e+07  7.364371e+06   5400000.00  2.934267e+07   \n",
       "1033        41.0  1.731857e+07  4.687285e+06   9000000.00  1.531532e+07   \n",
       "1034       105.0  3.054322e+07  8.031858e+06   3076923.08  2.784091e+07   \n",
       "1035        15.0  7.195408e+07  2.147521e+07  12400000.00  6.489796e+07   \n",
       "\n",
       "                   50%           75%           max  \n",
       "district                                            \n",
       "40        9.361702e+07  1.100000e+08  2.500000e+08  \n",
       "44        8.750000e+07  1.079295e+08  1.400000e+08  \n",
       "45        7.666667e+07  9.018182e+07  2.000000e+08  \n",
       "48        8.800000e+07  1.212121e+08  9.600000e+08  \n",
       "49        5.777050e+07  6.740370e+07  9.000000e+07  \n",
       "...                ...           ...           ...  \n",
       "1028      5.338983e+07  6.250000e+07  6.303030e+08  \n",
       "1030      3.142857e+07  3.374026e+07  6.000000e+07  \n",
       "1033      1.648649e+07  2.000000e+07  3.500000e+07  \n",
       "1034      3.191489e+07  3.500000e+07  4.949600e+07  \n",
       "1035      7.037037e+07  8.272152e+07  1.012270e+08  \n",
       "\n",
       "[215 rows x 8 columns]"
      ]
     },
     "execution_count": 163,
     "metadata": {},
     "output_type": "execute_result"
    }
   ],
   "source": [
    "divar_df.groupby('district').per_meter.describe()"
   ]
  },
  {
   "cell_type": "markdown",
   "id": "64d0db8d",
   "metadata": {},
   "source": [
    "# attention:\n",
    "    district column is a very usefull featcher in our dataset BUT we can't use till now because it has maeningless values \n",
    "    we group them by  per_meter and give them weight by their median \n",
    "    now they have a linear relation with per_meter "
   ]
  },
  {
   "cell_type": "code",
   "execution_count": 164,
   "id": "3b702c8e",
   "metadata": {},
   "outputs": [],
   "source": [
    "district_grouped_by = divar_df.groupby('district').per_meter.median().sort_values()"
   ]
  },
  {
   "cell_type": "code",
   "execution_count": 165,
   "id": "0540f0b4",
   "metadata": {},
   "outputs": [],
   "source": [
    "values = district_grouped_by.index\n",
    "district_weights = range(1, len(values)+1)\n",
    "dis_dic = {val: weights for (val, weights) in zip(values, district_weights)}"
   ]
  },
  {
   "cell_type": "code",
   "execution_count": 166,
   "id": "8f9aa1dc",
   "metadata": {},
   "outputs": [],
   "source": [
    "divar_df.district.replace(dis_dic, inplace=True)"
   ]
  },
  {
   "cell_type": "code",
   "execution_count": 167,
   "id": "f67a4cdb",
   "metadata": {},
   "outputs": [
    {
     "data": {
      "text/plain": [
       "215"
      ]
     },
     "execution_count": 167,
     "metadata": {},
     "output_type": "execute_result"
    }
   ],
   "source": [
    "divar_df.district.nunique()"
   ]
  },
  {
   "cell_type": "markdown",
   "id": "0886f92e",
   "metadata": {},
   "source": [
    "#### after all of these activities hopefully now we don't have object featcher anymore:)"
   ]
  },
  {
   "cell_type": "code",
   "execution_count": 168,
   "id": "b3dac840",
   "metadata": {},
   "outputs": [
    {
     "name": "stdout",
     "output_type": "stream",
     "text": [
      "<class 'pandas.core.frame.DataFrame'>\n",
      "Int64Index: 139348 entries, 0 to 21795\n",
      "Data columns (total 12 columns):\n",
      " #   Column          Non-Null Count   Dtype  \n",
      "---  ------          --------------   -----  \n",
      " 0   district        139348 non-null  int64  \n",
      " 1   business_type   139348 non-null  int8   \n",
      " 2   price           139348 non-null  float64\n",
      " 3   area            139348 non-null  float64\n",
      " 4   construct_date  139348 non-null  int64  \n",
      " 5   rooms           139348 non-null  int64  \n",
      " 6   floor           139348 non-null  int64  \n",
      " 7   elevator        139348 non-null  float64\n",
      " 8   parking         139348 non-null  float64\n",
      " 9   basement        139348 non-null  float64\n",
      " 10  total_floor     139348 non-null  int64  \n",
      " 11  per_meter       139348 non-null  float64\n",
      "dtypes: float64(6), int64(5), int8(1)\n",
      "memory usage: 12.9 MB\n"
     ]
    }
   ],
   "source": [
    "divar_df.info()"
   ]
  },
  {
   "cell_type": "code",
   "execution_count": 169,
   "id": "4999051f",
   "metadata": {},
   "outputs": [
    {
     "data": {
      "image/png": "[encoded data removed]",
      "text/plain": [
       "<Figure size 432x288 with 1 Axes>"
      ]
     },
     "metadata": {},
     "output_type": "display_data"
    }
   ],
   "source": [
    "plt.scatter(x=divar_df['area'],y=divar_df['per_meter'])\n",
    "plt.show()"
   ]
  },
  {
   "cell_type": "code",
   "execution_count": 170,
   "id": "c66a45f5",
   "metadata": {},
   "outputs": [
    {
     "data": {
      "text/plain": [
       "<AxesSubplot:xlabel='area'>"
      ]
     },
     "execution_count": 170,
     "metadata": {},
     "output_type": "execute_result"
    },
    {
     "data": {
      "image/png": "[encoded data removed]",
      "text/plain": [
       "<Figure size 432x288 with 1 Axes>"
      ]
     },
     "metadata": {},
     "output_type": "display_data"
    }
   ],
   "source": [
    "sns.boxplot(data=divar_df,x=divar_df['area'])"
   ]
  },
  {
   "cell_type": "code",
   "execution_count": 171,
   "id": "12f6dbd2",
   "metadata": {},
   "outputs": [
    {
     "data": {
      "text/plain": [
       "construct_date    0.014423\n",
       "floor             0.022353\n",
       "total_floor       0.022353\n",
       "area              0.091269\n",
       "basement          0.131608\n",
       "business_type     0.152517\n",
       "elevator          0.183102\n",
       "parking           0.194533\n",
       "rooms             0.301685\n",
       "district          0.516520\n",
       "price             0.710130\n",
       "per_meter         1.000000\n",
       "Name: per_meter, dtype: float64"
      ]
     },
     "execution_count": 171,
     "metadata": {},
     "output_type": "execute_result"
    }
   ],
   "source": [
    "a=divar_df.corr()\n",
    "a['per_meter'].sort_values()"
   ]
  },
  {
   "cell_type": "code",
   "execution_count": 174,
   "id": "21745efc",
   "metadata": {},
   "outputs": [
    {
     "data": {
      "text/html": [
       "<div>\n",
       "<style scoped>\n",
       "    .dataframe tbody tr th:only-of-type {\n",
       "        vertical-align: middle;\n",
       "    }\n",
       "\n",
       "    .dataframe tbody tr th {\n",
       "        vertical-align: top;\n",
       "    }\n",
       "\n",
       "    .dataframe thead th {\n",
       "        text-align: right;\n",
       "    }\n",
       "</style>\n",
       "<table border=\"1\" class=\"dataframe\">\n",
       "  <thead>\n",
       "    <tr style=\"text-align: right;\">\n",
       "      <th></th>\n",
       "      <th>district</th>\n",
       "      <th>business_type</th>\n",
       "      <th>price</th>\n",
       "      <th>area</th>\n",
       "      <th>construct_date</th>\n",
       "      <th>rooms</th>\n",
       "      <th>floor</th>\n",
       "      <th>elevator</th>\n",
       "      <th>parking</th>\n",
       "      <th>basement</th>\n",
       "      <th>total_floor</th>\n",
       "      <th>per_meter</th>\n",
       "    </tr>\n",
       "  </thead>\n",
       "  <tbody>\n",
       "    <tr>\n",
       "      <th>district</th>\n",
       "      <td>1.000000</td>\n",
       "      <td>0.311872</td>\n",
       "      <td>0.444831</td>\n",
       "      <td>0.092357</td>\n",
       "      <td>-0.215445</td>\n",
       "      <td>0.362712</td>\n",
       "      <td>-0.017448</td>\n",
       "      <td>0.196085</td>\n",
       "      <td>0.253385</td>\n",
       "      <td>0.224355</td>\n",
       "      <td>-0.017448</td>\n",
       "      <td>0.516520</td>\n",
       "    </tr>\n",
       "    <tr>\n",
       "      <th>business_type</th>\n",
       "      <td>0.311872</td>\n",
       "      <td>1.000000</td>\n",
       "      <td>0.131681</td>\n",
       "      <td>0.017103</td>\n",
       "      <td>0.009829</td>\n",
       "      <td>0.095970</td>\n",
       "      <td>0.023363</td>\n",
       "      <td>0.091708</td>\n",
       "      <td>0.198499</td>\n",
       "      <td>0.179691</td>\n",
       "      <td>0.023363</td>\n",
       "      <td>0.152517</td>\n",
       "    </tr>\n",
       "    <tr>\n",
       "      <th>price</th>\n",
       "      <td>0.444831</td>\n",
       "      <td>0.131681</td>\n",
       "      <td>1.000000</td>\n",
       "      <td>0.222776</td>\n",
       "      <td>0.061878</td>\n",
       "      <td>0.486202</td>\n",
       "      <td>0.090341</td>\n",
       "      <td>0.190589</td>\n",
       "      <td>0.190621</td>\n",
       "      <td>0.117972</td>\n",
       "      <td>0.090341</td>\n",
       "      <td>0.710130</td>\n",
       "    </tr>\n",
       "    <tr>\n",
       "      <th>area</th>\n",
       "      <td>0.092357</td>\n",
       "      <td>0.017103</td>\n",
       "      <td>0.222776</td>\n",
       "      <td>1.000000</td>\n",
       "      <td>0.028666</td>\n",
       "      <td>0.181986</td>\n",
       "      <td>0.038409</td>\n",
       "      <td>0.066478</td>\n",
       "      <td>0.063403</td>\n",
       "      <td>0.024007</td>\n",
       "      <td>0.038409</td>\n",
       "      <td>0.091269</td>\n",
       "    </tr>\n",
       "    <tr>\n",
       "      <th>construct_date</th>\n",
       "      <td>-0.215445</td>\n",
       "      <td>0.009829</td>\n",
       "      <td>0.061878</td>\n",
       "      <td>0.028666</td>\n",
       "      <td>1.000000</td>\n",
       "      <td>0.143783</td>\n",
       "      <td>0.226660</td>\n",
       "      <td>0.539901</td>\n",
       "      <td>0.263271</td>\n",
       "      <td>0.011739</td>\n",
       "      <td>0.226660</td>\n",
       "      <td>0.014423</td>\n",
       "    </tr>\n",
       "    <tr>\n",
       "      <th>rooms</th>\n",
       "      <td>0.362712</td>\n",
       "      <td>0.095970</td>\n",
       "      <td>0.486202</td>\n",
       "      <td>0.181986</td>\n",
       "      <td>0.143783</td>\n",
       "      <td>1.000000</td>\n",
       "      <td>0.153987</td>\n",
       "      <td>0.327291</td>\n",
       "      <td>0.337331</td>\n",
       "      <td>0.148753</td>\n",
       "      <td>0.153987</td>\n",
       "      <td>0.301685</td>\n",
       "    </tr>\n",
       "    <tr>\n",
       "      <th>floor</th>\n",
       "      <td>-0.017448</td>\n",
       "      <td>0.023363</td>\n",
       "      <td>0.090341</td>\n",
       "      <td>0.038409</td>\n",
       "      <td>0.226660</td>\n",
       "      <td>0.153987</td>\n",
       "      <td>1.000000</td>\n",
       "      <td>0.237596</td>\n",
       "      <td>0.142421</td>\n",
       "      <td>0.050890</td>\n",
       "      <td>1.000000</td>\n",
       "      <td>0.022353</td>\n",
       "    </tr>\n",
       "    <tr>\n",
       "      <th>elevator</th>\n",
       "      <td>0.196085</td>\n",
       "      <td>0.091708</td>\n",
       "      <td>0.190589</td>\n",
       "      <td>0.066478</td>\n",
       "      <td>0.539901</td>\n",
       "      <td>0.327291</td>\n",
       "      <td>0.237596</td>\n",
       "      <td>1.000000</td>\n",
       "      <td>0.347206</td>\n",
       "      <td>0.088616</td>\n",
       "      <td>0.237596</td>\n",
       "      <td>0.183102</td>\n",
       "    </tr>\n",
       "    <tr>\n",
       "      <th>parking</th>\n",
       "      <td>0.253385</td>\n",
       "      <td>0.198499</td>\n",
       "      <td>0.190621</td>\n",
       "      <td>0.063403</td>\n",
       "      <td>0.263271</td>\n",
       "      <td>0.337331</td>\n",
       "      <td>0.142421</td>\n",
       "      <td>0.347206</td>\n",
       "      <td>1.000000</td>\n",
       "      <td>0.268798</td>\n",
       "      <td>0.142421</td>\n",
       "      <td>0.194533</td>\n",
       "    </tr>\n",
       "    <tr>\n",
       "      <th>basement</th>\n",
       "      <td>0.224355</td>\n",
       "      <td>0.179691</td>\n",
       "      <td>0.117972</td>\n",
       "      <td>0.024007</td>\n",
       "      <td>0.011739</td>\n",
       "      <td>0.148753</td>\n",
       "      <td>0.050890</td>\n",
       "      <td>0.088616</td>\n",
       "      <td>0.268798</td>\n",
       "      <td>1.000000</td>\n",
       "      <td>0.050890</td>\n",
       "      <td>0.131608</td>\n",
       "    </tr>\n",
       "    <tr>\n",
       "      <th>total_floor</th>\n",
       "      <td>-0.017448</td>\n",
       "      <td>0.023363</td>\n",
       "      <td>0.090341</td>\n",
       "      <td>0.038409</td>\n",
       "      <td>0.226660</td>\n",
       "      <td>0.153987</td>\n",
       "      <td>1.000000</td>\n",
       "      <td>0.237596</td>\n",
       "      <td>0.142421</td>\n",
       "      <td>0.050890</td>\n",
       "      <td>1.000000</td>\n",
       "      <td>0.022353</td>\n",
       "    </tr>\n",
       "    <tr>\n",
       "      <th>per_meter</th>\n",
       "      <td>0.516520</td>\n",
       "      <td>0.152517</td>\n",
       "      <td>0.710130</td>\n",
       "      <td>0.091269</td>\n",
       "      <td>0.014423</td>\n",
       "      <td>0.301685</td>\n",
       "      <td>0.022353</td>\n",
       "      <td>0.183102</td>\n",
       "      <td>0.194533</td>\n",
       "      <td>0.131608</td>\n",
       "      <td>0.022353</td>\n",
       "      <td>1.000000</td>\n",
       "    </tr>\n",
       "  </tbody>\n",
       "</table>\n",
       "</div>"
      ],
      "text/plain": [
       "                district  business_type     price      area  construct_date  \\\n",
       "district        1.000000       0.311872  0.444831  0.092357       -0.215445   \n",
       "business_type   0.311872       1.000000  0.131681  0.017103        0.009829   \n",
       "price           0.444831       0.131681  1.000000  0.222776        0.061878   \n",
       "area            0.092357       0.017103  0.222776  1.000000        0.028666   \n",
       "construct_date -0.215445       0.009829  0.061878  0.028666        1.000000   \n",
       "rooms           0.362712       0.095970  0.486202  0.181986        0.143783   \n",
       "floor          -0.017448       0.023363  0.090341  0.038409        0.226660   \n",
       "elevator        0.196085       0.091708  0.190589  0.066478        0.539901   \n",
       "parking         0.253385       0.198499  0.190621  0.063403        0.263271   \n",
       "basement        0.224355       0.179691  0.117972  0.024007        0.011739   \n",
       "total_floor    -0.017448       0.023363  0.090341  0.038409        0.226660   \n",
       "per_meter       0.516520       0.152517  0.710130  0.091269        0.014423   \n",
       "\n",
       "                   rooms     floor  elevator   parking  basement  total_floor  \\\n",
       "district        0.362712 -0.017448  0.196085  0.253385  0.224355    -0.017448   \n",
       "business_type   0.095970  0.023363  0.091708  0.198499  0.179691     0.023363   \n",
       "price           0.486202  0.090341  0.190589  0.190621  0.117972     0.090341   \n",
       "area            0.181986  0.038409  0.066478  0.063403  0.024007     0.038409   \n",
       "construct_date  0.143783  0.226660  0.539901  0.263271  0.011739     0.226660   \n",
       "rooms           1.000000  0.153987  0.327291  0.337331  0.148753     0.153987   \n",
       "floor           0.153987  1.000000  0.237596  0.142421  0.050890     1.000000   \n",
       "elevator        0.327291  0.237596  1.000000  0.347206  0.088616     0.237596   \n",
       "parking         0.337331  0.142421  0.347206  1.000000  0.268798     0.142421   \n",
       "basement        0.148753  0.050890  0.088616  0.268798  1.000000     0.050890   \n",
       "total_floor     0.153987  1.000000  0.237596  0.142421  0.050890     1.000000   \n",
       "per_meter       0.301685  0.022353  0.183102  0.194533  0.131608     0.022353   \n",
       "\n",
       "                per_meter  \n",
       "district         0.516520  \n",
       "business_type    0.152517  \n",
       "price            0.710130  \n",
       "area             0.091269  \n",
       "construct_date   0.014423  \n",
       "rooms            0.301685  \n",
       "floor            0.022353  \n",
       "elevator         0.183102  \n",
       "parking          0.194533  \n",
       "basement         0.131608  \n",
       "total_floor      0.022353  \n",
       "per_meter        1.000000  "
      ]
     },
     "execution_count": 174,
     "metadata": {},
     "output_type": "execute_result"
    }
   ],
   "source": [
    "a\n"
   ]
  },
  {
   "cell_type": "code",
   "execution_count": 173,
   "id": "28b7e0f4",
   "metadata": {},
   "outputs": [],
   "source": [
    "divar_df.drop('price', axis = 1, inplace = True)"
   ]
  },
  {
   "cell_type": "code",
   "execution_count": 175,
   "id": "9ef8dc68",
   "metadata": {},
   "outputs": [
    {
     "data": {
      "text/html": [
       "<div>\n",
       "<style scoped>\n",
       "    .dataframe tbody tr th:only-of-type {\n",
       "        vertical-align: middle;\n",
       "    }\n",
       "\n",
       "    .dataframe tbody tr th {\n",
       "        vertical-align: top;\n",
       "    }\n",
       "\n",
       "    .dataframe thead th {\n",
       "        text-align: right;\n",
       "    }\n",
       "</style>\n",
       "<table border=\"1\" class=\"dataframe\">\n",
       "  <thead>\n",
       "    <tr style=\"text-align: right;\">\n",
       "      <th></th>\n",
       "      <th>district</th>\n",
       "      <th>business_type</th>\n",
       "      <th>area</th>\n",
       "      <th>construct_date</th>\n",
       "      <th>rooms</th>\n",
       "      <th>floor</th>\n",
       "      <th>elevator</th>\n",
       "      <th>parking</th>\n",
       "      <th>basement</th>\n",
       "      <th>total_floor</th>\n",
       "      <th>per_meter</th>\n",
       "    </tr>\n",
       "  </thead>\n",
       "  <tbody>\n",
       "    <tr>\n",
       "      <th>0</th>\n",
       "      <td>82</td>\n",
       "      <td>1</td>\n",
       "      <td>113.0</td>\n",
       "      <td>1395</td>\n",
       "      <td>2</td>\n",
       "      <td>1</td>\n",
       "      <td>1.0</td>\n",
       "      <td>1.0</td>\n",
       "      <td>0.0</td>\n",
       "      <td>1</td>\n",
       "      <td>2.938053e+07</td>\n",
       "    </tr>\n",
       "    <tr>\n",
       "      <th>1</th>\n",
       "      <td>186</td>\n",
       "      <td>1</td>\n",
       "      <td>114.0</td>\n",
       "      <td>1400</td>\n",
       "      <td>3</td>\n",
       "      <td>1</td>\n",
       "      <td>1.0</td>\n",
       "      <td>1.0</td>\n",
       "      <td>1.0</td>\n",
       "      <td>1</td>\n",
       "      <td>8.070175e+07</td>\n",
       "    </tr>\n",
       "    <tr>\n",
       "      <th>2</th>\n",
       "      <td>211</td>\n",
       "      <td>1</td>\n",
       "      <td>165.0</td>\n",
       "      <td>1397</td>\n",
       "      <td>3</td>\n",
       "      <td>2</td>\n",
       "      <td>1.0</td>\n",
       "      <td>1.0</td>\n",
       "      <td>1.0</td>\n",
       "      <td>2</td>\n",
       "      <td>8.484848e+07</td>\n",
       "    </tr>\n",
       "    <tr>\n",
       "      <th>3</th>\n",
       "      <td>186</td>\n",
       "      <td>1</td>\n",
       "      <td>128.0</td>\n",
       "      <td>1389</td>\n",
       "      <td>3</td>\n",
       "      <td>1</td>\n",
       "      <td>1.0</td>\n",
       "      <td>1.0</td>\n",
       "      <td>1.0</td>\n",
       "      <td>1</td>\n",
       "      <td>6.953125e+07</td>\n",
       "    </tr>\n",
       "    <tr>\n",
       "      <th>4</th>\n",
       "      <td>186</td>\n",
       "      <td>1</td>\n",
       "      <td>130.0</td>\n",
       "      <td>1400</td>\n",
       "      <td>3</td>\n",
       "      <td>11</td>\n",
       "      <td>1.0</td>\n",
       "      <td>1.0</td>\n",
       "      <td>1.0</td>\n",
       "      <td>11</td>\n",
       "      <td>1.070000e+07</td>\n",
       "    </tr>\n",
       "    <tr>\n",
       "      <th>...</th>\n",
       "      <td>...</td>\n",
       "      <td>...</td>\n",
       "      <td>...</td>\n",
       "      <td>...</td>\n",
       "      <td>...</td>\n",
       "      <td>...</td>\n",
       "      <td>...</td>\n",
       "      <td>...</td>\n",
       "      <td>...</td>\n",
       "      <td>...</td>\n",
       "      <td>...</td>\n",
       "    </tr>\n",
       "    <tr>\n",
       "      <th>21789</th>\n",
       "      <td>212</td>\n",
       "      <td>1</td>\n",
       "      <td>200.0</td>\n",
       "      <td>1384</td>\n",
       "      <td>3</td>\n",
       "      <td>3</td>\n",
       "      <td>1.0</td>\n",
       "      <td>1.0</td>\n",
       "      <td>1.0</td>\n",
       "      <td>3</td>\n",
       "      <td>7.500000e+07</td>\n",
       "    </tr>\n",
       "    <tr>\n",
       "      <th>21791</th>\n",
       "      <td>212</td>\n",
       "      <td>1</td>\n",
       "      <td>190.0</td>\n",
       "      <td>1385</td>\n",
       "      <td>3</td>\n",
       "      <td>5</td>\n",
       "      <td>1.0</td>\n",
       "      <td>1.0</td>\n",
       "      <td>1.0</td>\n",
       "      <td>5</td>\n",
       "      <td>7.473684e+07</td>\n",
       "    </tr>\n",
       "    <tr>\n",
       "      <th>21792</th>\n",
       "      <td>212</td>\n",
       "      <td>1</td>\n",
       "      <td>165.0</td>\n",
       "      <td>1387</td>\n",
       "      <td>3</td>\n",
       "      <td>4</td>\n",
       "      <td>1.0</td>\n",
       "      <td>1.0</td>\n",
       "      <td>1.0</td>\n",
       "      <td>4</td>\n",
       "      <td>6.700000e+07</td>\n",
       "    </tr>\n",
       "    <tr>\n",
       "      <th>21794</th>\n",
       "      <td>169</td>\n",
       "      <td>0</td>\n",
       "      <td>79.0</td>\n",
       "      <td>1400</td>\n",
       "      <td>2</td>\n",
       "      <td>2</td>\n",
       "      <td>1.0</td>\n",
       "      <td>1.0</td>\n",
       "      <td>1.0</td>\n",
       "      <td>2</td>\n",
       "      <td>6.455696e+07</td>\n",
       "    </tr>\n",
       "    <tr>\n",
       "      <th>21795</th>\n",
       "      <td>212</td>\n",
       "      <td>1</td>\n",
       "      <td>240.0</td>\n",
       "      <td>1400</td>\n",
       "      <td>3</td>\n",
       "      <td>6</td>\n",
       "      <td>1.0</td>\n",
       "      <td>1.0</td>\n",
       "      <td>1.0</td>\n",
       "      <td>6</td>\n",
       "      <td>2.150000e+08</td>\n",
       "    </tr>\n",
       "  </tbody>\n",
       "</table>\n",
       "<p>139348 rows × 11 columns</p>\n",
       "</div>"
      ],
      "text/plain": [
       "       district  business_type   area  construct_date  rooms  floor  elevator  \\\n",
       "0            82              1  113.0            1395      2      1       1.0   \n",
       "1           186              1  114.0            1400      3      1       1.0   \n",
       "2           211              1  165.0            1397      3      2       1.0   \n",
       "3           186              1  128.0            1389      3      1       1.0   \n",
       "4           186              1  130.0            1400      3     11       1.0   \n",
       "...         ...            ...    ...             ...    ...    ...       ...   \n",
       "21789       212              1  200.0            1384      3      3       1.0   \n",
       "21791       212              1  190.0            1385      3      5       1.0   \n",
       "21792       212              1  165.0            1387      3      4       1.0   \n",
       "21794       169              0   79.0            1400      2      2       1.0   \n",
       "21795       212              1  240.0            1400      3      6       1.0   \n",
       "\n",
       "       parking  basement  total_floor     per_meter  \n",
       "0          1.0       0.0            1  2.938053e+07  \n",
       "1          1.0       1.0            1  8.070175e+07  \n",
       "2          1.0       1.0            2  8.484848e+07  \n",
       "3          1.0       1.0            1  6.953125e+07  \n",
       "4          1.0       1.0           11  1.070000e+07  \n",
       "...        ...       ...          ...           ...  \n",
       "21789      1.0       1.0            3  7.500000e+07  \n",
       "21791      1.0       1.0            5  7.473684e+07  \n",
       "21792      1.0       1.0            4  6.700000e+07  \n",
       "21794      1.0       1.0            2  6.455696e+07  \n",
       "21795      1.0       1.0            6  2.150000e+08  \n",
       "\n",
       "[139348 rows x 11 columns]"
      ]
     },
     "execution_count": 175,
     "metadata": {},
     "output_type": "execute_result"
    }
   ],
   "source": [
    "divar_df"
   ]
  },
  {
   "cell_type": "markdown",
   "id": "42eebae5",
   "metadata": {},
   "source": [
    "#### congratulation your dataset is approximately clean"
   ]
  },
  {
   "cell_type": "markdown",
   "id": "b7ba1525",
   "metadata": {},
   "source": [
    "# models with outliers:"
   ]
  },
  {
   "cell_type": "code",
   "execution_count": 181,
   "id": "168f327d",
   "metadata": {},
   "outputs": [],
   "source": [
    "from sklearn.linear_model import LinearRegression, SGDRegressor, Ridge, Lasso\n",
    "from sklearn.preprocessing import PolynomialFeatures, MinMaxScaler, StandardScaler\n",
    "from sklearn.pipeline import make_pipeline\n",
    "from sklearn.model_selection import train_test_split, learning_curve,cross_val_score"
   ]
  },
  {
   "cell_type": "code",
   "execution_count": 176,
   "id": "0e2de21f",
   "metadata": {},
   "outputs": [],
   "source": [
    "X = divar_df.loc[:, divar_df.columns!='per_meter'].values\n",
    "y = divar_df['per_meter'].values\n",
    "x_train, x_test, y_train, y_test = train_test_split(X,y,random_state=5,test_size=0.4)"
   ]
  },
  {
   "cell_type": "markdown",
   "id": "1d6572d9",
   "metadata": {},
   "source": [
    "# model NO1 :\n",
    "    linear regression with train and test with outliers"
   ]
  },
  {
   "cell_type": "code",
   "execution_count": 177,
   "id": "a523cacd",
   "metadata": {},
   "outputs": [
    {
     "data": {
      "text/html": [
       "<style>#sk-container-id-7 {color: black;background-color: white;}#sk-container-id-7 pre{padding: 0;}#sk-container-id-7 div.sk-toggleable {background-color: white;}#sk-container-id-7 label.sk-toggleable__label {cursor: pointer;display: block;width: 100%;margin-bottom: 0;padding: 0.3em;box-sizing: border-box;text-align: center;}#sk-container-id-7 label.sk-toggleable__label-arrow:before {content: \"▸\";float: left;margin-right: 0.25em;color: #696969;}#sk-container-id-7 label.sk-toggleable__label-arrow:hover:before {color: black;}#sk-container-id-7 div.sk-estimator:hover label.sk-toggleable__label-arrow:before {color: black;}#sk-container-id-7 div.sk-toggleable__content {max-height: 0;max-width: 0;overflow: hidden;text-align: left;background-color: #f0f8ff;}#sk-container-id-7 div.sk-toggleable__content pre {margin: 0.2em;color: black;border-radius: 0.25em;background-color: #f0f8ff;}#sk-container-id-7 input.sk-toggleable__control:checked~div.sk-toggleable__content {max-height: 200px;max-width: 100%;overflow: auto;}#sk-container-id-7 input.sk-toggleable__control:checked~label.sk-toggleable__label-arrow:before {content: \"▾\";}#sk-container-id-7 div.sk-estimator input.sk-toggleable__control:checked~label.sk-toggleable__label {background-color: #d4ebff;}#sk-container-id-7 div.sk-label input.sk-toggleable__control:checked~label.sk-toggleable__label {background-color: #d4ebff;}#sk-container-id-7 input.sk-hidden--visually {border: 0;clip: rect(1px 1px 1px 1px);clip: rect(1px, 1px, 1px, 1px);height: 1px;margin: -1px;overflow: hidden;padding: 0;position: absolute;width: 1px;}#sk-container-id-7 div.sk-estimator {font-family: monospace;background-color: #f0f8ff;border: 1px dotted black;border-radius: 0.25em;box-sizing: border-box;margin-bottom: 0.5em;}#sk-container-id-7 div.sk-estimator:hover {background-color: #d4ebff;}#sk-container-id-7 div.sk-parallel-item::after {content: \"\";width: 100%;border-bottom: 1px solid gray;flex-grow: 1;}#sk-container-id-7 div.sk-label:hover label.sk-toggleable__label {background-color: #d4ebff;}#sk-container-id-7 div.sk-serial::before {content: \"\";position: absolute;border-left: 1px solid gray;box-sizing: border-box;top: 0;bottom: 0;left: 50%;z-index: 0;}#sk-container-id-7 div.sk-serial {display: flex;flex-direction: column;align-items: center;background-color: white;padding-right: 0.2em;padding-left: 0.2em;position: relative;}#sk-container-id-7 div.sk-item {position: relative;z-index: 1;}#sk-container-id-7 div.sk-parallel {display: flex;align-items: stretch;justify-content: center;background-color: white;position: relative;}#sk-container-id-7 div.sk-item::before, #sk-container-id-7 div.sk-parallel-item::before {content: \"\";position: absolute;border-left: 1px solid gray;box-sizing: border-box;top: 0;bottom: 0;left: 50%;z-index: -1;}#sk-container-id-7 div.sk-parallel-item {display: flex;flex-direction: column;z-index: 1;position: relative;background-color: white;}#sk-container-id-7 div.sk-parallel-item:first-child::after {align-self: flex-end;width: 50%;}#sk-container-id-7 div.sk-parallel-item:last-child::after {align-self: flex-start;width: 50%;}#sk-container-id-7 div.sk-parallel-item:only-child::after {width: 0;}#sk-container-id-7 div.sk-dashed-wrapped {border: 1px dashed gray;margin: 0 0.4em 0.5em 0.4em;box-sizing: border-box;padding-bottom: 0.4em;background-color: white;}#sk-container-id-7 div.sk-label label {font-family: monospace;font-weight: bold;display: inline-block;line-height: 1.2em;}#sk-container-id-7 div.sk-label-container {text-align: center;}#sk-container-id-7 div.sk-container {/* jupyter's `normalize.less` sets `[hidden] { display: none; }` but bootstrap.min.css set `[hidden] { display: none !important; }` so we also need the `!important` here to be able to override the default hidden behavior on the sphinx rendered scikit-learn.org. See: https://github.com/scikit-learn/scikit-learn/issues/21755 */display: inline-block !important;position: relative;}#sk-container-id-7 div.sk-text-repr-fallback {display: none;}</style><div id=\"sk-container-id-7\" class=\"sk-top-container\"><div class=\"sk-text-repr-fallback\"><pre>LinearRegression()</pre><b>In a Jupyter environment, please rerun this cell to show the HTML representation or trust the notebook. <br />On GitHub, the HTML representation is unable to render, please try loading this page with nbviewer.org.</b></div><div class=\"sk-container\" hidden><div class=\"sk-item\"><div class=\"sk-estimator sk-toggleable\"><input class=\"sk-toggleable__control sk-hidden--visually\" id=\"sk-estimator-id-7\" type=\"checkbox\" checked><label for=\"sk-estimator-id-7\" class=\"sk-toggleable__label sk-toggleable__label-arrow\">LinearRegression</label><div class=\"sk-toggleable__content\"><pre>LinearRegression()</pre></div></div></div></div></div>"
      ],
      "text/plain": [
       "LinearRegression()"
      ]
     },
     "execution_count": 177,
     "metadata": {},
     "output_type": "execute_result"
    }
   ],
   "source": [
    "lin_reg = LinearRegression()\n",
    "lin_reg.fit(x_train, y_train)"
   ]
  },
  {
   "cell_type": "code",
   "execution_count": 178,
   "id": "15e3373d",
   "metadata": {},
   "outputs": [],
   "source": [
    "housing_predictions=lin_reg.predict(x_test)\n",
    "#output y predict( y^):\n"
   ]
  },
  {
   "cell_type": "code",
   "execution_count": 179,
   "id": "c686cf83",
   "metadata": {},
   "outputs": [
    {
     "data": {
      "text/plain": [
       "array([30599630.97782743, 50312708.63930476, 53391333.05742884, ...,\n",
       "       31629541.51068258, 28531435.09421909, 29033611.21078658])"
      ]
     },
     "execution_count": 179,
     "metadata": {},
     "output_type": "execute_result"
    }
   ],
   "source": [
    "housing_predictions"
   ]
  },
  {
   "cell_type": "code",
   "execution_count": 180,
   "id": "6c725ef7",
   "metadata": {},
   "outputs": [
    {
     "data": {
      "text/plain": [
       "38431516.61065272"
      ]
     },
     "execution_count": 180,
     "metadata": {},
     "output_type": "execute_result"
    }
   ],
   "source": [
    "lin_mse = mean_squared_error(y_test , housing_predictions)\n",
    "lin_rmse = np.sqrt(lin_mse)\n",
    "lin_rmse"
   ]
  },
  {
   "cell_type": "code",
   "execution_count": 182,
   "id": "a60e76ae",
   "metadata": {},
   "outputs": [
    {
     "data": {
      "text/plain": [
       "0.4077427232417737"
      ]
     },
     "execution_count": 182,
     "metadata": {},
     "output_type": "execute_result"
    }
   ],
   "source": [
    "scores = cross_val_score(lin_reg, x_train, y_train,\n",
    "                         scoring=\"r2\", cv=10)\n",
    "# lin_reg_rmse_scores = np.sqrt(-scores)\n",
    "# lin_reg_rmse_scores.mean()\n",
    "scores.mean()"
   ]
  },
  {
   "cell_type": "code",
   "execution_count": 183,
   "id": "6326b49b",
   "metadata": {},
   "outputs": [
    {
     "name": "stderr",
     "output_type": "stream",
     "text": [
      "C:\\Users\\Mehr\\AppData\\Local\\Programs\\Python\\Python39-32\\lib\\site-packages\\sklearn\\linear_model\\_coordinate_descent.py:648: ConvergenceWarning: Objective did not converge. You might want to increase the number of iterations, check the scale of the features or consider increasing regularisation. Duality gap: 5.948e+19, tolerance: 1.707e+16\n",
      "  model = cd_fast.enet_coordinate_descent(\n"
     ]
    },
    {
     "data": {
      "text/plain": [
       "38431643.53529294"
      ]
     },
     "execution_count": 183,
     "metadata": {},
     "output_type": "execute_result"
    }
   ],
   "source": [
    "El_reg=ElasticNet(alpha=1.0, l1_ratio=0.99)\n",
    "El_reg.fit(x_train, y_train)\n",
    "housing_predictions_El=El_reg.predict(x_test)\n",
    "El_mse = mean_squared_error(y_test , housing_predictions_El)\n",
    "El_rmse = np.sqrt(El_mse)\n",
    "El_rmse"
   ]
  },
  {
   "cell_type": "code",
   "execution_count": 195,
   "id": "8b9114c3",
   "metadata": {},
   "outputs": [
    {
     "data": {
      "text/plain": [
       "[<matplotlib.lines.Line2D at 0x247b95e0>]"
      ]
     },
     "execution_count": 195,
     "metadata": {},
     "output_type": "execute_result"
    },
    {
     "data": {
      "image/png": "[encoded data removed]",
      "text/plain": [
       "<Figure size 432x288 with 1 Axes>"
      ]
     },
     "metadata": {},
     "output_type": "display_data"
    }
   ],
   "source": [
    "train_sizes, train_scores, valid_scores = learning_curve(LinearRegression(), x_train, y_train, train_sizes=np.linspace(0.01, 1.0, 100), cv=5,\n",
    "    scoring=\"neg_root_mean_squared_error\")\n",
    "\n",
    "train_errors = -train_scores.mean(axis=1)\n",
    "valid_errors = -valid_scores.mean(axis=1)\n",
    "\n",
    "plt.plot(train_sizes, train_errors)\n",
    "plt.plot(train_sizes, valid_errors)"
   ]
  },
  {
   "cell_type": "code",
   "execution_count": 194,
   "id": "95fe17f8",
   "metadata": {},
   "outputs": [
    {
     "data": {
      "text/plain": [
       "array([4390553.70804381])"
      ]
     },
     "execution_count": 194,
     "metadata": {},
     "output_type": "execute_result"
    }
   ],
   "source": [
    "xt=np.array([1,0,130,1390,2,2,1,1,1,4]).reshape(1,-1)\n",
    "lin_reg.predict(xt)"
   ]
  },
  {
   "cell_type": "markdown",
   "id": "f5af4d68",
   "metadata": {},
   "source": [
    "# outliers:\n",
    "    drop out the outlier of area and per meter featcher based on district column with IQR method:"
   ]
  },
  {
   "cell_type": "code",
   "execution_count": null,
   "id": "82170607",
   "metadata": {},
   "outputs": [],
   "source": [
    "def detect_outlier(district, column):\n",
    "    rows = divar_df[divar_df['district'] == district]\n",
    "    column_values = rows[column]\n",
    "    Q1 = column_values.quantile(0.25)\n",
    "    Q3 = column_values.quantile(0.75)\n",
    "    IQR = Q3 - Q1  \n",
    "    low_outlier = Q1 - (1.5 * IQR)\n",
    "    high_outlier = Q3 + (1.5 * IQR)\n",
    "    lower = rows[rows[column] < low_outlier]\n",
    "    higher = rows[rows[column] > high_outlier]\n",
    "    divar_df.drop(lower.index, inplace=True, axis=0)\n",
    "    divar_df.drop(higher.index, inplace=True, axis=0)\n",
    "\n",
    "columns = ['area', 'per_meter']\n",
    "districts = divar_df['district'].unique()\n",
    "for dis in districts:\n",
    "    for col in columns:\n",
    "        detect_outlier(dis, col)"
   ]
  },
  {
   "cell_type": "markdown",
   "id": "548c57b1",
   "metadata": {},
   "source": [
    "# <h4> this is a new clean csv file the resault of all above code that you don't need to run last cells for cleaning </h4>"
   ]
  },
  {
   "cell_type": "code",
   "execution_count": null,
   "id": "810ecb4e",
   "metadata": {},
   "outputs": [],
   "source": [
    "# divar_df.to_csv('cleaned_divar_df.csv')"
   ]
  },
  {
   "cell_type": "code",
   "execution_count": 201,
   "id": "3d90e5fb",
   "metadata": {},
   "outputs": [],
   "source": [
    "divar_df_final=pd.read_csv('cleaned_divar_df.csv',sep='\\s+')\n"
   ]
  },
  {
   "cell_type": "markdown",
   "id": "530221d9",
   "metadata": {},
   "source": [
    "### drop price\n",
    "no need to 'price' and 'per_meter' both of them at a time\n",
    "the label is 'per_meter' so you should drop price because it has affect on your model"
   ]
  },
  {
   "cell_type": "code",
   "execution_count": 202,
   "id": "a85a0026",
   "metadata": {},
   "outputs": [
    {
     "data": {
      "text/html": [
       "<div>\n",
       "<style scoped>\n",
       "    .dataframe tbody tr th:only-of-type {\n",
       "        vertical-align: middle;\n",
       "    }\n",
       "\n",
       "    .dataframe tbody tr th {\n",
       "        vertical-align: top;\n",
       "    }\n",
       "\n",
       "    .dataframe thead th {\n",
       "        text-align: right;\n",
       "    }\n",
       "</style>\n",
       "<table border=\"1\" class=\"dataframe\">\n",
       "  <thead>\n",
       "    <tr style=\"text-align: right;\">\n",
       "      <th></th>\n",
       "      <th>district</th>\n",
       "      <th>business_type</th>\n",
       "      <th>area</th>\n",
       "      <th>construct_date</th>\n",
       "      <th>rooms</th>\n",
       "      <th>floor</th>\n",
       "      <th>elevator</th>\n",
       "      <th>parking</th>\n",
       "      <th>basement</th>\n",
       "      <th>total_floor</th>\n",
       "      <th>per_meter</th>\n",
       "      <th>room_per_area</th>\n",
       "    </tr>\n",
       "  </thead>\n",
       "  <tbody>\n",
       "    <tr>\n",
       "      <th>0</th>\n",
       "      <td>82</td>\n",
       "      <td>1</td>\n",
       "      <td>113.0</td>\n",
       "      <td>1395</td>\n",
       "      <td>2</td>\n",
       "      <td>1</td>\n",
       "      <td>1.0</td>\n",
       "      <td>1.0</td>\n",
       "      <td>0.0</td>\n",
       "      <td>1</td>\n",
       "      <td>29380530.97</td>\n",
       "      <td>0.02</td>\n",
       "    </tr>\n",
       "    <tr>\n",
       "      <th>1</th>\n",
       "      <td>186</td>\n",
       "      <td>1</td>\n",
       "      <td>114.0</td>\n",
       "      <td>1400</td>\n",
       "      <td>3</td>\n",
       "      <td>1</td>\n",
       "      <td>1.0</td>\n",
       "      <td>1.0</td>\n",
       "      <td>1.0</td>\n",
       "      <td>1</td>\n",
       "      <td>80701754.39</td>\n",
       "      <td>0.03</td>\n",
       "    </tr>\n",
       "    <tr>\n",
       "      <th>2</th>\n",
       "      <td>211</td>\n",
       "      <td>1</td>\n",
       "      <td>165.0</td>\n",
       "      <td>1397</td>\n",
       "      <td>3</td>\n",
       "      <td>2</td>\n",
       "      <td>1.0</td>\n",
       "      <td>1.0</td>\n",
       "      <td>1.0</td>\n",
       "      <td>2</td>\n",
       "      <td>84848484.85</td>\n",
       "      <td>0.02</td>\n",
       "    </tr>\n",
       "    <tr>\n",
       "      <th>4</th>\n",
       "      <td>186</td>\n",
       "      <td>1</td>\n",
       "      <td>130.0</td>\n",
       "      <td>1400</td>\n",
       "      <td>3</td>\n",
       "      <td>11</td>\n",
       "      <td>1.0</td>\n",
       "      <td>1.0</td>\n",
       "      <td>1.0</td>\n",
       "      <td>11</td>\n",
       "      <td>10700000.00</td>\n",
       "      <td>0.02</td>\n",
       "    </tr>\n",
       "    <tr>\n",
       "      <th>5</th>\n",
       "      <td>186</td>\n",
       "      <td>1</td>\n",
       "      <td>80.0</td>\n",
       "      <td>1387</td>\n",
       "      <td>2</td>\n",
       "      <td>5</td>\n",
       "      <td>1.0</td>\n",
       "      <td>1.0</td>\n",
       "      <td>1.0</td>\n",
       "      <td>5</td>\n",
       "      <td>43625000.00</td>\n",
       "      <td>0.02</td>\n",
       "    </tr>\n",
       "    <tr>\n",
       "      <th>...</th>\n",
       "      <td>...</td>\n",
       "      <td>...</td>\n",
       "      <td>...</td>\n",
       "      <td>...</td>\n",
       "      <td>...</td>\n",
       "      <td>...</td>\n",
       "      <td>...</td>\n",
       "      <td>...</td>\n",
       "      <td>...</td>\n",
       "      <td>...</td>\n",
       "      <td>...</td>\n",
       "      <td>...</td>\n",
       "    </tr>\n",
       "    <tr>\n",
       "      <th>21787</th>\n",
       "      <td>212</td>\n",
       "      <td>1</td>\n",
       "      <td>130.0</td>\n",
       "      <td>1384</td>\n",
       "      <td>2</td>\n",
       "      <td>5</td>\n",
       "      <td>1.0</td>\n",
       "      <td>1.0</td>\n",
       "      <td>1.0</td>\n",
       "      <td>5</td>\n",
       "      <td>80769230.77</td>\n",
       "      <td>0.02</td>\n",
       "    </tr>\n",
       "    <tr>\n",
       "      <th>21788</th>\n",
       "      <td>212</td>\n",
       "      <td>1</td>\n",
       "      <td>113.0</td>\n",
       "      <td>1385</td>\n",
       "      <td>2</td>\n",
       "      <td>14</td>\n",
       "      <td>1.0</td>\n",
       "      <td>1.0</td>\n",
       "      <td>1.0</td>\n",
       "      <td>14</td>\n",
       "      <td>84955752.21</td>\n",
       "      <td>0.02</td>\n",
       "    </tr>\n",
       "    <tr>\n",
       "      <th>21789</th>\n",
       "      <td>212</td>\n",
       "      <td>1</td>\n",
       "      <td>200.0</td>\n",
       "      <td>1384</td>\n",
       "      <td>3</td>\n",
       "      <td>3</td>\n",
       "      <td>1.0</td>\n",
       "      <td>1.0</td>\n",
       "      <td>1.0</td>\n",
       "      <td>3</td>\n",
       "      <td>75000000.00</td>\n",
       "      <td>0.02</td>\n",
       "    </tr>\n",
       "    <tr>\n",
       "      <th>21791</th>\n",
       "      <td>212</td>\n",
       "      <td>1</td>\n",
       "      <td>190.0</td>\n",
       "      <td>1385</td>\n",
       "      <td>3</td>\n",
       "      <td>5</td>\n",
       "      <td>1.0</td>\n",
       "      <td>1.0</td>\n",
       "      <td>1.0</td>\n",
       "      <td>5</td>\n",
       "      <td>74736842.11</td>\n",
       "      <td>0.02</td>\n",
       "    </tr>\n",
       "    <tr>\n",
       "      <th>21792</th>\n",
       "      <td>212</td>\n",
       "      <td>1</td>\n",
       "      <td>165.0</td>\n",
       "      <td>1387</td>\n",
       "      <td>3</td>\n",
       "      <td>4</td>\n",
       "      <td>1.0</td>\n",
       "      <td>1.0</td>\n",
       "      <td>1.0</td>\n",
       "      <td>4</td>\n",
       "      <td>67000000.00</td>\n",
       "      <td>0.02</td>\n",
       "    </tr>\n",
       "  </tbody>\n",
       "</table>\n",
       "<p>113458 rows × 12 columns</p>\n",
       "</div>"
      ],
      "text/plain": [
       "       district  business_type   area  construct_date  rooms  floor  elevator  \\\n",
       "0            82              1  113.0            1395      2      1       1.0   \n",
       "1           186              1  114.0            1400      3      1       1.0   \n",
       "2           211              1  165.0            1397      3      2       1.0   \n",
       "4           186              1  130.0            1400      3     11       1.0   \n",
       "5           186              1   80.0            1387      2      5       1.0   \n",
       "...         ...            ...    ...             ...    ...    ...       ...   \n",
       "21787       212              1  130.0            1384      2      5       1.0   \n",
       "21788       212              1  113.0            1385      2     14       1.0   \n",
       "21789       212              1  200.0            1384      3      3       1.0   \n",
       "21791       212              1  190.0            1385      3      5       1.0   \n",
       "21792       212              1  165.0            1387      3      4       1.0   \n",
       "\n",
       "       parking  basement  total_floor    per_meter  room_per_area  \n",
       "0          1.0       0.0            1  29380530.97           0.02  \n",
       "1          1.0       1.0            1  80701754.39           0.03  \n",
       "2          1.0       1.0            2  84848484.85           0.02  \n",
       "4          1.0       1.0           11  10700000.00           0.02  \n",
       "5          1.0       1.0            5  43625000.00           0.02  \n",
       "...        ...       ...          ...          ...            ...  \n",
       "21787      1.0       1.0            5  80769230.77           0.02  \n",
       "21788      1.0       1.0           14  84955752.21           0.02  \n",
       "21789      1.0       1.0            3  75000000.00           0.02  \n",
       "21791      1.0       1.0            5  74736842.11           0.02  \n",
       "21792      1.0       1.0            4  67000000.00           0.02  \n",
       "\n",
       "[113458 rows x 12 columns]"
      ]
     },
     "execution_count": 202,
     "metadata": {},
     "output_type": "execute_result"
    }
   ],
   "source": [
    "divar_df_final.drop('price', axis = 1, inplace = True)\n",
    "divar_df_final['room_per_area'] = round(divar_df_final['rooms'] / divar_df_final['area'], 2)\n",
    "divar_df_final"
   ]
  },
  {
   "cell_type": "code",
   "execution_count": 203,
   "id": "1a23984b",
   "metadata": {},
   "outputs": [
    {
     "data": {
      "image/png": "[encoded data removed]",
      "text/plain": [
       "<Figure size 432x288 with 1 Axes>"
      ]
     },
     "metadata": {},
     "output_type": "display_data"
    }
   ],
   "source": [
    "plt.scatter(x=divar_df_final['district'],y=divar_df_final['per_meter'])\n",
    "plt.show()"
   ]
  },
  {
   "cell_type": "code",
   "execution_count": 204,
   "id": "ede3370c",
   "metadata": {},
   "outputs": [
    {
     "data": {
      "image/png": "[encoded data removed]",
      "text/plain": [
       "<Figure size 432x288 with 1 Axes>"
      ]
     },
     "metadata": {},
     "output_type": "display_data"
    }
   ],
   "source": [
    "plt.scatter(x=divar_df_final['area'],y=divar_df_final['per_meter'])\n",
    "plt.show()"
   ]
  },
  {
   "cell_type": "code",
   "execution_count": 205,
   "id": "7c64b8aa",
   "metadata": {},
   "outputs": [
    {
     "data": {
      "image/png": "[encoded data removed]",
      "text/plain": [
       "<Figure size 432x288 with 1 Axes>"
      ]
     },
     "metadata": {},
     "output_type": "display_data"
    }
   ],
   "source": [
    "plt.scatter(x=divar_df_final['room_per_area'],y=divar_df_final['per_meter'])\n",
    "plt.show()"
   ]
  },
  {
   "cell_type": "code",
   "execution_count": 260,
   "id": "b99c0e05",
   "metadata": {},
   "outputs": [
    {
     "data": {
      "image/png": "[encoded data removed]",
      "text/plain": [
       "<Figure size 432x288 with 1 Axes>"
      ]
     },
     "metadata": {},
     "output_type": "display_data"
    }
   ],
   "source": [
    "plt.scatter(x=divar_df_final['construct_date'],y=divar_df_final['per_meter'])\n",
    "plt.show()"
   ]
  },
  {
   "cell_type": "code",
   "execution_count": 207,
   "id": "751a4f5b",
   "metadata": {},
   "outputs": [
    {
     "data": {
      "text/plain": [
       "<AxesSubplot:xlabel='area'>"
      ]
     },
     "execution_count": 207,
     "metadata": {},
     "output_type": "execute_result"
    },
    {
     "data": {
      "image/png": "[encoded data removed]",
      "text/plain": [
       "<Figure size 432x288 with 1 Axes>"
      ]
     },
     "metadata": {},
     "output_type": "display_data"
    }
   ],
   "source": [
    "sns.boxplot(data=divar_df_final,x=divar_df_final['area'])"
   ]
  },
  {
   "cell_type": "code",
   "execution_count": 206,
   "id": "62260d8c",
   "metadata": {},
   "outputs": [
    {
     "data": {
      "text/plain": [
       "room_per_area    -0.254077\n",
       "construct_date    0.010288\n",
       "floor             0.019821\n",
       "total_floor       0.019821\n",
       "basement          0.210055\n",
       "business_type     0.259838\n",
       "elevator          0.297926\n",
       "parking           0.317390\n",
       "rooms             0.473089\n",
       "area              0.648326\n",
       "district          0.829360\n",
       "per_meter         1.000000\n",
       "Name: per_meter, dtype: float64"
      ]
     },
     "execution_count": 206,
     "metadata": {},
     "output_type": "execute_result"
    }
   ],
   "source": [
    "a=divar_df_final.corr()\n",
    "a['per_meter'].sort_values()"
   ]
  },
  {
   "cell_type": "markdown",
   "id": "7df68ccc",
   "metadata": {},
   "source": [
    "### resault of corr without outliers\n",
    "in comparison with cell 93 :\n",
    "    the correlations of per meter with some faetchers are increase we have new column room_per_area    it seems that is usefull \n",
    "    "
   ]
  },
  {
   "cell_type": "markdown",
   "id": "0fce55dc",
   "metadata": {},
   "source": [
    "# model with out outliers:"
   ]
  },
  {
   "cell_type": "markdown",
   "id": "385667a5",
   "metadata": {},
   "source": [
    "# split data frame to test and train"
   ]
  },
  {
   "cell_type": "code",
   "execution_count": 208,
   "id": "a096e2ea",
   "metadata": {},
   "outputs": [
    {
     "data": {
      "text/plain": [
       "(113458, 11)"
      ]
     },
     "execution_count": 208,
     "metadata": {},
     "output_type": "execute_result"
    }
   ],
   "source": [
    "X = divar_df_final.loc[:, divar_df_final.columns!='per_meter'].values\n",
    "y = divar_df_final['per_meter'].values\n",
    "X.shape"
   ]
  },
  {
   "cell_type": "code",
   "execution_count": 209,
   "id": "9342d4dd",
   "metadata": {},
   "outputs": [
    {
     "data": {
      "text/plain": [
       "(90766, 11)"
      ]
     },
     "execution_count": 209,
     "metadata": {},
     "output_type": "execute_result"
    }
   ],
   "source": [
    "x_train, x_test, y_train, y_test = train_test_split(X,y,random_state=4,test_size=0.2)\n",
    "x_train.shape"
   ]
  },
  {
   "cell_type": "code",
   "execution_count": 210,
   "id": "278bf1c3",
   "metadata": {},
   "outputs": [
    {
     "data": {
      "text/plain": [
       "(22692, 11)"
      ]
     },
     "execution_count": 210,
     "metadata": {},
     "output_type": "execute_result"
    }
   ],
   "source": [
    "x_test.shape"
   ]
  },
  {
   "cell_type": "code",
   "execution_count": 114,
   "id": "b886e152",
   "metadata": {},
   "outputs": [
    {
     "data": {
      "text/plain": [
       "(111478,)"
      ]
     },
     "execution_count": 114,
     "metadata": {},
     "output_type": "execute_result"
    }
   ],
   "source": [
    "y_train.shape"
   ]
  },
  {
   "cell_type": "code",
   "execution_count": 212,
   "id": "37a853f9",
   "metadata": {},
   "outputs": [
    {
     "data": {
      "text/plain": [
       "(22692,)"
      ]
     },
     "execution_count": 212,
     "metadata": {},
     "output_type": "execute_result"
    }
   ],
   "source": [
    "y_test.shape"
   ]
  },
  {
   "cell_type": "markdown",
   "id": "9da0e04f",
   "metadata": {},
   "source": [
    "# model NO1 :\n",
    "    polynomial linear regression with train and test "
   ]
  },
  {
   "cell_type": "code",
   "execution_count": 213,
   "id": "85e43e34",
   "metadata": {},
   "outputs": [
    {
     "data": {
      "text/plain": [
       "[<matplotlib.lines.Line2D at 0x2ea8b160>]"
      ]
     },
     "execution_count": 213,
     "metadata": {},
     "output_type": "execute_result"
    },
    {
     "data": {
      "image/png": "[encoded data removed]",
      "text/plain": [
       "<Figure size 432x288 with 1 Axes>"
      ]
     },
     "metadata": {},
     "output_type": "display_data"
    }
   ],
   "source": [
    "polynomial_regression_pipline = make_pipeline(\n",
    "    PolynomialFeatures(degree=2, include_bias=False),\n",
    "    LinearRegression() \n",
    ")\n",
    "\n",
    "train_sizes, train_scores, valid_scores = learning_curve(\n",
    "    polynomial_regression_pipline, x_train, y_train, train_sizes=np.linspace(0.01, 1.0, 40), cv=10,\n",
    "    scoring=\"neg_root_mean_squared_error\"\n",
    ")\n",
    "\n",
    "train_errors = -train_scores.mean(axis=1)\n",
    "valid_errors = -valid_scores.mean(axis=1)\n",
    "\n",
    "plt.plot(train_sizes, train_errors, \"r-+\", linewidth=2, label=\"train\")\n",
    "plt.plot(train_sizes, valid_errors, \"b-\", linewidth=3, label=\"valid\")"
   ]
  },
  {
   "cell_type": "code",
   "execution_count": 224,
   "id": "2f632217",
   "metadata": {},
   "outputs": [
    {
     "data": {
      "text/plain": [
       "9783785.529701438"
      ]
     },
     "execution_count": 224,
     "metadata": {},
     "output_type": "execute_result"
    }
   ],
   "source": [
    "train_errors.mean()"
   ]
  },
  {
   "cell_type": "markdown",
   "id": "d9f90dbb",
   "metadata": {},
   "source": [
    "# model NO2 :\n",
    "    linear regression with train and test "
   ]
  },
  {
   "cell_type": "code",
   "execution_count": 221,
   "id": "16462925",
   "metadata": {},
   "outputs": [
    {
     "name": "stdout",
     "output_type": "stream",
     "text": [
      "Coefficients: \n",
      " [ 2.85858376e+05 -5.59431410e+04  3.61100680e+05  5.72063236e+05\n",
      " -1.08191331e+07 -1.27304789e+05 -9.50890322e+05  6.91822134e+05\n",
      " -1.22908384e+05 -1.27304789e+05  4.57063867e+08]\n",
      "Mean squared error: 12102578.19\n",
      "Coefficient of determination: 0.80\n"
     ]
    }
   ],
   "source": [
    "from sklearn.metrics import mean_squared_error, r2_score\n",
    "\n",
    "\n",
    "\n",
    "regr = LinearRegression()\n",
    "\n",
    "regr.fit(x_train, y_train)\n",
    "\n",
    "y_pred = regr.predict(x_test)\n",
    "mse= mean_squared_error(y_test, y_pred)\n",
    "print(\"Coefficients: \\n\", regr.coef_)\n",
    "print(\"Mean squared error: %.2f\" % np.sqrt(mse))\n",
    "# The coefficient of determination: 1 is perfect prediction\n",
    "print(\"Coefficient of determination: %.2f\" % r2_score(y_test, y_pred))\n",
    "\n",
    "\n",
    "# plt.scatter(x_test, y_test, color=\"black\")\n",
    "# plt.plot(x_test, y_pred, color=\"blue\", linewidth=3)\n",
    "\n",
    "# plt.xticks(())\n",
    "# plt.yticks(())\n",
    "\n",
    "# plt.show()"
   ]
  },
  {
   "cell_type": "code",
   "execution_count": 234,
   "id": "c6a7d18a",
   "metadata": {},
   "outputs": [
    {
     "data": {
      "text/plain": [
       "0.4077427232417737"
      ]
     },
     "execution_count": 234,
     "metadata": {},
     "output_type": "execute_result"
    }
   ],
   "source": [
    "# from sklearn.model_selection import cross_val_score\n",
    "\n",
    "# scores = cross_val_score(lin_reg, x_train, y_train,\n",
    "#                          scoring=\"r2\", cv=10)\n",
    "# lin_reg_rmse_scores = np.sqrt(-scores)\n",
    "# lin_reg_rmse_scores.mean()\n",
    "scores.mean()"
   ]
  },
  {
   "cell_type": "markdown",
   "id": "68f2d038",
   "metadata": {},
   "source": [
    "# model NO3:\n",
    "elastic net regression with train and test"
   ]
  },
  {
   "cell_type": "code",
   "execution_count": 228,
   "id": "e724ef39",
   "metadata": {},
   "outputs": [
    {
     "name": "stderr",
     "output_type": "stream",
     "text": [
      "C:\\Users\\Mehr\\AppData\\Local\\Programs\\Python\\Python39-32\\lib\\site-packages\\sklearn\\linear_model\\_coordinate_descent.py:648: ConvergenceWarning: Objective did not converge. You might want to increase the number of iterations, check the scale of the features or consider increasing regularisation. Duality gap: 6.778e+18, tolerance: 6.818e+15\n",
      "  model = cd_fast.enet_coordinate_descent(\n"
     ]
    },
    {
     "data": {
      "text/html": [
       "<style>#sk-container-id-8 {color: black;background-color: white;}#sk-container-id-8 pre{padding: 0;}#sk-container-id-8 div.sk-toggleable {background-color: white;}#sk-container-id-8 label.sk-toggleable__label {cursor: pointer;display: block;width: 100%;margin-bottom: 0;padding: 0.3em;box-sizing: border-box;text-align: center;}#sk-container-id-8 label.sk-toggleable__label-arrow:before {content: \"▸\";float: left;margin-right: 0.25em;color: #696969;}#sk-container-id-8 label.sk-toggleable__label-arrow:hover:before {color: black;}#sk-container-id-8 div.sk-estimator:hover label.sk-toggleable__label-arrow:before {color: black;}#sk-container-id-8 div.sk-toggleable__content {max-height: 0;max-width: 0;overflow: hidden;text-align: left;background-color: #f0f8ff;}#sk-container-id-8 div.sk-toggleable__content pre {margin: 0.2em;color: black;border-radius: 0.25em;background-color: #f0f8ff;}#sk-container-id-8 input.sk-toggleable__control:checked~div.sk-toggleable__content {max-height: 200px;max-width: 100%;overflow: auto;}#sk-container-id-8 input.sk-toggleable__control:checked~label.sk-toggleable__label-arrow:before {content: \"▾\";}#sk-container-id-8 div.sk-estimator input.sk-toggleable__control:checked~label.sk-toggleable__label {background-color: #d4ebff;}#sk-container-id-8 div.sk-label input.sk-toggleable__control:checked~label.sk-toggleable__label {background-color: #d4ebff;}#sk-container-id-8 input.sk-hidden--visually {border: 0;clip: rect(1px 1px 1px 1px);clip: rect(1px, 1px, 1px, 1px);height: 1px;margin: -1px;overflow: hidden;padding: 0;position: absolute;width: 1px;}#sk-container-id-8 div.sk-estimator {font-family: monospace;background-color: #f0f8ff;border: 1px dotted black;border-radius: 0.25em;box-sizing: border-box;margin-bottom: 0.5em;}#sk-container-id-8 div.sk-estimator:hover {background-color: #d4ebff;}#sk-container-id-8 div.sk-parallel-item::after {content: \"\";width: 100%;border-bottom: 1px solid gray;flex-grow: 1;}#sk-container-id-8 div.sk-label:hover label.sk-toggleable__label {background-color: #d4ebff;}#sk-container-id-8 div.sk-serial::before {content: \"\";position: absolute;border-left: 1px solid gray;box-sizing: border-box;top: 0;bottom: 0;left: 50%;z-index: 0;}#sk-container-id-8 div.sk-serial {display: flex;flex-direction: column;align-items: center;background-color: white;padding-right: 0.2em;padding-left: 0.2em;position: relative;}#sk-container-id-8 div.sk-item {position: relative;z-index: 1;}#sk-container-id-8 div.sk-parallel {display: flex;align-items: stretch;justify-content: center;background-color: white;position: relative;}#sk-container-id-8 div.sk-item::before, #sk-container-id-8 div.sk-parallel-item::before {content: \"\";position: absolute;border-left: 1px solid gray;box-sizing: border-box;top: 0;bottom: 0;left: 50%;z-index: -1;}#sk-container-id-8 div.sk-parallel-item {display: flex;flex-direction: column;z-index: 1;position: relative;background-color: white;}#sk-container-id-8 div.sk-parallel-item:first-child::after {align-self: flex-end;width: 50%;}#sk-container-id-8 div.sk-parallel-item:last-child::after {align-self: flex-start;width: 50%;}#sk-container-id-8 div.sk-parallel-item:only-child::after {width: 0;}#sk-container-id-8 div.sk-dashed-wrapped {border: 1px dashed gray;margin: 0 0.4em 0.5em 0.4em;box-sizing: border-box;padding-bottom: 0.4em;background-color: white;}#sk-container-id-8 div.sk-label label {font-family: monospace;font-weight: bold;display: inline-block;line-height: 1.2em;}#sk-container-id-8 div.sk-label-container {text-align: center;}#sk-container-id-8 div.sk-container {/* jupyter's `normalize.less` sets `[hidden] { display: none; }` but bootstrap.min.css set `[hidden] { display: none !important; }` so we also need the `!important` here to be able to override the default hidden behavior on the sphinx rendered scikit-learn.org. See: https://github.com/scikit-learn/scikit-learn/issues/21755 */display: inline-block !important;position: relative;}#sk-container-id-8 div.sk-text-repr-fallback {display: none;}</style><div id=\"sk-container-id-8\" class=\"sk-top-container\"><div class=\"sk-text-repr-fallback\"><pre>ElasticNet(l1_ratio=0.99)</pre><b>In a Jupyter environment, please rerun this cell to show the HTML representation or trust the notebook. <br />On GitHub, the HTML representation is unable to render, please try loading this page with nbviewer.org.</b></div><div class=\"sk-container\" hidden><div class=\"sk-item\"><div class=\"sk-estimator sk-toggleable\"><input class=\"sk-toggleable__control sk-hidden--visually\" id=\"sk-estimator-id-8\" type=\"checkbox\" checked><label for=\"sk-estimator-id-8\" class=\"sk-toggleable__label sk-toggleable__label-arrow\">ElasticNet</label><div class=\"sk-toggleable__content\"><pre>ElasticNet(l1_ratio=0.99)</pre></div></div></div></div></div>"
      ],
      "text/plain": [
       "ElasticNet(l1_ratio=0.99)"
      ]
     },
     "execution_count": 228,
     "metadata": {},
     "output_type": "execute_result"
    }
   ],
   "source": [
    "El_reg=ElasticNet(alpha=1.0, l1_ratio=0.99)\n",
    "El_reg.fit(x_train, y_train)"
   ]
  },
  {
   "cell_type": "code",
   "execution_count": 229,
   "id": "1dcfc6f1",
   "metadata": {},
   "outputs": [],
   "source": [
    "housing_predictions_El=El_reg.predict(x_test)\n",
    "#output y predict( y^):"
   ]
  },
  {
   "cell_type": "code",
   "execution_count": 230,
   "id": "02680caa",
   "metadata": {},
   "outputs": [],
   "source": [
    "El_mse = mean_squared_error(y_test , housing_predictions_El)\n",
    "El_rmse = np.sqrt(El_mse)\n"
   ]
  },
  {
   "cell_type": "code",
   "execution_count": 232,
   "id": "5a195c7a",
   "metadata": {},
   "outputs": [
    {
     "data": {
      "text/plain": [
       "12180395.45007933"
      ]
     },
     "execution_count": 232,
     "metadata": {},
     "output_type": "execute_result"
    }
   ],
   "source": [
    "El_rmse"
   ]
  },
  {
   "cell_type": "code",
   "execution_count": 231,
   "id": "34ced1b8",
   "metadata": {},
   "outputs": [
    {
     "data": {
      "text/plain": [
       "array([[1.        , 0.89251625],\n",
       "       [0.89251625, 1.        ]])"
      ]
     },
     "execution_count": 231,
     "metadata": {},
     "output_type": "execute_result"
    }
   ],
   "source": [
    "np.corrcoef(y_test,housing_predictions_El)"
   ]
  },
  {
   "cell_type": "code",
   "execution_count": 235,
   "id": "cf6272bf",
   "metadata": {},
   "outputs": [
    {
     "name": "stderr",
     "output_type": "stream",
     "text": [
      "C:\\Users\\Mehr\\AppData\\Local\\Programs\\Python\\Python39-32\\lib\\site-packages\\sklearn\\linear_model\\_coordinate_descent.py:648: ConvergenceWarning: Objective did not converge. You might want to increase the number of iterations, check the scale of the features or consider increasing regularisation. Duality gap: 6.102e+18, tolerance: 6.149e+15\n",
      "  model = cd_fast.enet_coordinate_descent(\n",
      "C:\\Users\\Mehr\\AppData\\Local\\Programs\\Python\\Python39-32\\lib\\site-packages\\sklearn\\linear_model\\_coordinate_descent.py:648: ConvergenceWarning: Objective did not converge. You might want to increase the number of iterations, check the scale of the features or consider increasing regularisation. Duality gap: 6.121e+18, tolerance: 6.139e+15\n",
      "  model = cd_fast.enet_coordinate_descent(\n",
      "C:\\Users\\Mehr\\AppData\\Local\\Programs\\Python\\Python39-32\\lib\\site-packages\\sklearn\\linear_model\\_coordinate_descent.py:648: ConvergenceWarning: Objective did not converge. You might want to increase the number of iterations, check the scale of the features or consider increasing regularisation. Duality gap: 6.092e+18, tolerance: 6.145e+15\n",
      "  model = cd_fast.enet_coordinate_descent(\n",
      "C:\\Users\\Mehr\\AppData\\Local\\Programs\\Python\\Python39-32\\lib\\site-packages\\sklearn\\linear_model\\_coordinate_descent.py:648: ConvergenceWarning: Objective did not converge. You might want to increase the number of iterations, check the scale of the features or consider increasing regularisation. Duality gap: 6.112e+18, tolerance: 6.136e+15\n",
      "  model = cd_fast.enet_coordinate_descent(\n",
      "C:\\Users\\Mehr\\AppData\\Local\\Programs\\Python\\Python39-32\\lib\\site-packages\\sklearn\\linear_model\\_coordinate_descent.py:648: ConvergenceWarning: Objective did not converge. You might want to increase the number of iterations, check the scale of the features or consider increasing regularisation. Duality gap: 6.114e+18, tolerance: 6.136e+15\n",
      "  model = cd_fast.enet_coordinate_descent(\n",
      "C:\\Users\\Mehr\\AppData\\Local\\Programs\\Python\\Python39-32\\lib\\site-packages\\sklearn\\linear_model\\_coordinate_descent.py:648: ConvergenceWarning: Objective did not converge. You might want to increase the number of iterations, check the scale of the features or consider increasing regularisation. Duality gap: 6.085e+18, tolerance: 6.133e+15\n",
      "  model = cd_fast.enet_coordinate_descent(\n",
      "C:\\Users\\Mehr\\AppData\\Local\\Programs\\Python\\Python39-32\\lib\\site-packages\\sklearn\\linear_model\\_coordinate_descent.py:648: ConvergenceWarning: Objective did not converge. You might want to increase the number of iterations, check the scale of the features or consider increasing regularisation. Duality gap: 6.068e+18, tolerance: 6.119e+15\n",
      "  model = cd_fast.enet_coordinate_descent(\n",
      "C:\\Users\\Mehr\\AppData\\Local\\Programs\\Python\\Python39-32\\lib\\site-packages\\sklearn\\linear_model\\_coordinate_descent.py:648: ConvergenceWarning: Objective did not converge. You might want to increase the number of iterations, check the scale of the features or consider increasing regularisation. Duality gap: 6.106e+18, tolerance: 6.143e+15\n",
      "  model = cd_fast.enet_coordinate_descent(\n",
      "C:\\Users\\Mehr\\AppData\\Local\\Programs\\Python\\Python39-32\\lib\\site-packages\\sklearn\\linear_model\\_coordinate_descent.py:648: ConvergenceWarning: Objective did not converge. You might want to increase the number of iterations, check the scale of the features or consider increasing regularisation. Duality gap: 6.108e+18, tolerance: 6.138e+15\n",
      "  model = cd_fast.enet_coordinate_descent(\n",
      "C:\\Users\\Mehr\\AppData\\Local\\Programs\\Python\\Python39-32\\lib\\site-packages\\sklearn\\linear_model\\_coordinate_descent.py:648: ConvergenceWarning: Objective did not converge. You might want to increase the number of iterations, check the scale of the features or consider increasing regularisation. Duality gap: 6.096e+18, tolerance: 6.120e+15\n",
      "  model = cd_fast.enet_coordinate_descent(\n"
     ]
    },
    {
     "data": {
      "text/plain": [
       "array([12233548.68438158, 12078156.89092382, 12323004.73993495,\n",
       "       12154943.76565959, 12111804.51099438, 12399547.71920658,\n",
       "       12538645.19990124, 12190856.54194599, 12212714.9649257 ,\n",
       "       12303915.26420818])"
      ]
     },
     "execution_count": 235,
     "metadata": {},
     "output_type": "execute_result"
    }
   ],
   "source": [
    "\n",
    "\n",
    "scores = cross_val_score(El_reg, x_train, y_train,\n",
    "                         scoring=\"neg_mean_squared_error\", cv=10)\n",
    "El_reg_rmse_scores = np.sqrt(-scores)\n",
    "El_reg_rmse_scores"
   ]
  },
  {
   "cell_type": "markdown",
   "id": "2ba77bac",
   "metadata": {},
   "source": [
    "# scale up:"
   ]
  },
  {
   "cell_type": "code",
   "execution_count": 236,
   "id": "2f55ef0c",
   "metadata": {},
   "outputs": [],
   "source": [
    "from sklearn import preprocessing\n",
    "scale_min_max=preprocessing.MinMaxScaler()\n",
    "x_train_scale=scale_min_max.fit_transform(x_train,y_train)\n",
    "x_test_scale=scale_min_max.transform(x_test)"
   ]
  },
  {
   "cell_type": "code",
   "execution_count": 237,
   "id": "b2f82066",
   "metadata": {},
   "outputs": [
    {
     "data": {
      "text/html": [
       "<div>\n",
       "<style scoped>\n",
       "    .dataframe tbody tr th:only-of-type {\n",
       "        vertical-align: middle;\n",
       "    }\n",
       "\n",
       "    .dataframe tbody tr th {\n",
       "        vertical-align: top;\n",
       "    }\n",
       "\n",
       "    .dataframe thead th {\n",
       "        text-align: right;\n",
       "    }\n",
       "</style>\n",
       "<table border=\"1\" class=\"dataframe\">\n",
       "  <thead>\n",
       "    <tr style=\"text-align: right;\">\n",
       "      <th></th>\n",
       "      <th>0</th>\n",
       "      <th>1</th>\n",
       "      <th>2</th>\n",
       "      <th>3</th>\n",
       "      <th>4</th>\n",
       "      <th>5</th>\n",
       "      <th>6</th>\n",
       "      <th>7</th>\n",
       "      <th>8</th>\n",
       "      <th>9</th>\n",
       "      <th>10</th>\n",
       "    </tr>\n",
       "  </thead>\n",
       "  <tbody>\n",
       "    <tr>\n",
       "      <th>0</th>\n",
       "      <td>0.504673</td>\n",
       "      <td>1.0</td>\n",
       "      <td>0.112272</td>\n",
       "      <td>0.677419</td>\n",
       "      <td>0.2</td>\n",
       "      <td>0.064516</td>\n",
       "      <td>1.0</td>\n",
       "      <td>1.0</td>\n",
       "      <td>1.0</td>\n",
       "      <td>0.064516</td>\n",
       "      <td>0.250</td>\n",
       "    </tr>\n",
       "    <tr>\n",
       "      <th>1</th>\n",
       "      <td>0.406542</td>\n",
       "      <td>1.0</td>\n",
       "      <td>0.052219</td>\n",
       "      <td>0.741935</td>\n",
       "      <td>0.2</td>\n",
       "      <td>0.032258</td>\n",
       "      <td>1.0</td>\n",
       "      <td>1.0</td>\n",
       "      <td>1.0</td>\n",
       "      <td>0.032258</td>\n",
       "      <td>0.250</td>\n",
       "    </tr>\n",
       "    <tr>\n",
       "      <th>2</th>\n",
       "      <td>0.761682</td>\n",
       "      <td>1.0</td>\n",
       "      <td>0.214099</td>\n",
       "      <td>0.903226</td>\n",
       "      <td>0.4</td>\n",
       "      <td>0.129032</td>\n",
       "      <td>1.0</td>\n",
       "      <td>1.0</td>\n",
       "      <td>1.0</td>\n",
       "      <td>0.129032</td>\n",
       "      <td>0.250</td>\n",
       "    </tr>\n",
       "    <tr>\n",
       "      <th>3</th>\n",
       "      <td>0.962617</td>\n",
       "      <td>1.0</td>\n",
       "      <td>0.169713</td>\n",
       "      <td>0.516129</td>\n",
       "      <td>0.4</td>\n",
       "      <td>0.161290</td>\n",
       "      <td>1.0</td>\n",
       "      <td>1.0</td>\n",
       "      <td>1.0</td>\n",
       "      <td>0.161290</td>\n",
       "      <td>0.250</td>\n",
       "    </tr>\n",
       "    <tr>\n",
       "      <th>4</th>\n",
       "      <td>0.799065</td>\n",
       "      <td>1.0</td>\n",
       "      <td>0.135770</td>\n",
       "      <td>0.258065</td>\n",
       "      <td>0.4</td>\n",
       "      <td>0.096774</td>\n",
       "      <td>0.0</td>\n",
       "      <td>1.0</td>\n",
       "      <td>1.0</td>\n",
       "      <td>0.096774</td>\n",
       "      <td>0.375</td>\n",
       "    </tr>\n",
       "    <tr>\n",
       "      <th>...</th>\n",
       "      <td>...</td>\n",
       "      <td>...</td>\n",
       "      <td>...</td>\n",
       "      <td>...</td>\n",
       "      <td>...</td>\n",
       "      <td>...</td>\n",
       "      <td>...</td>\n",
       "      <td>...</td>\n",
       "      <td>...</td>\n",
       "      <td>...</td>\n",
       "      <td>...</td>\n",
       "    </tr>\n",
       "    <tr>\n",
       "      <th>90761</th>\n",
       "      <td>0.943925</td>\n",
       "      <td>0.0</td>\n",
       "      <td>0.073107</td>\n",
       "      <td>0.516129</td>\n",
       "      <td>0.2</td>\n",
       "      <td>0.064516</td>\n",
       "      <td>1.0</td>\n",
       "      <td>1.0</td>\n",
       "      <td>1.0</td>\n",
       "      <td>0.064516</td>\n",
       "      <td>0.250</td>\n",
       "    </tr>\n",
       "    <tr>\n",
       "      <th>90762</th>\n",
       "      <td>0.028037</td>\n",
       "      <td>1.0</td>\n",
       "      <td>0.125326</td>\n",
       "      <td>0.677419</td>\n",
       "      <td>0.4</td>\n",
       "      <td>0.064516</td>\n",
       "      <td>0.0</td>\n",
       "      <td>1.0</td>\n",
       "      <td>1.0</td>\n",
       "      <td>0.064516</td>\n",
       "      <td>0.375</td>\n",
       "    </tr>\n",
       "    <tr>\n",
       "      <th>90763</th>\n",
       "      <td>0.789720</td>\n",
       "      <td>1.0</td>\n",
       "      <td>0.138381</td>\n",
       "      <td>0.677419</td>\n",
       "      <td>0.4</td>\n",
       "      <td>0.032258</td>\n",
       "      <td>1.0</td>\n",
       "      <td>1.0</td>\n",
       "      <td>1.0</td>\n",
       "      <td>0.032258</td>\n",
       "      <td>0.375</td>\n",
       "    </tr>\n",
       "    <tr>\n",
       "      <th>90764</th>\n",
       "      <td>0.827103</td>\n",
       "      <td>1.0</td>\n",
       "      <td>0.245431</td>\n",
       "      <td>0.580645</td>\n",
       "      <td>0.6</td>\n",
       "      <td>0.129032</td>\n",
       "      <td>1.0</td>\n",
       "      <td>1.0</td>\n",
       "      <td>1.0</td>\n",
       "      <td>0.129032</td>\n",
       "      <td>0.375</td>\n",
       "    </tr>\n",
       "    <tr>\n",
       "      <th>90765</th>\n",
       "      <td>0.691589</td>\n",
       "      <td>1.0</td>\n",
       "      <td>0.120104</td>\n",
       "      <td>0.967742</td>\n",
       "      <td>0.2</td>\n",
       "      <td>0.193548</td>\n",
       "      <td>1.0</td>\n",
       "      <td>1.0</td>\n",
       "      <td>1.0</td>\n",
       "      <td>0.193548</td>\n",
       "      <td>0.125</td>\n",
       "    </tr>\n",
       "  </tbody>\n",
       "</table>\n",
       "<p>90766 rows × 11 columns</p>\n",
       "</div>"
      ],
      "text/plain": [
       "             0    1         2         3    4         5    6    7    8   \\\n",
       "0      0.504673  1.0  0.112272  0.677419  0.2  0.064516  1.0  1.0  1.0   \n",
       "1      0.406542  1.0  0.052219  0.741935  0.2  0.032258  1.0  1.0  1.0   \n",
       "2      0.761682  1.0  0.214099  0.903226  0.4  0.129032  1.0  1.0  1.0   \n",
       "3      0.962617  1.0  0.169713  0.516129  0.4  0.161290  1.0  1.0  1.0   \n",
       "4      0.799065  1.0  0.135770  0.258065  0.4  0.096774  0.0  1.0  1.0   \n",
       "...         ...  ...       ...       ...  ...       ...  ...  ...  ...   \n",
       "90761  0.943925  0.0  0.073107  0.516129  0.2  0.064516  1.0  1.0  1.0   \n",
       "90762  0.028037  1.0  0.125326  0.677419  0.4  0.064516  0.0  1.0  1.0   \n",
       "90763  0.789720  1.0  0.138381  0.677419  0.4  0.032258  1.0  1.0  1.0   \n",
       "90764  0.827103  1.0  0.245431  0.580645  0.6  0.129032  1.0  1.0  1.0   \n",
       "90765  0.691589  1.0  0.120104  0.967742  0.2  0.193548  1.0  1.0  1.0   \n",
       "\n",
       "             9      10  \n",
       "0      0.064516  0.250  \n",
       "1      0.032258  0.250  \n",
       "2      0.129032  0.250  \n",
       "3      0.161290  0.250  \n",
       "4      0.096774  0.375  \n",
       "...         ...    ...  \n",
       "90761  0.064516  0.250  \n",
       "90762  0.064516  0.375  \n",
       "90763  0.032258  0.375  \n",
       "90764  0.129032  0.375  \n",
       "90765  0.193548  0.125  \n",
       "\n",
       "[90766 rows x 11 columns]"
      ]
     },
     "execution_count": 237,
     "metadata": {},
     "output_type": "execute_result"
    }
   ],
   "source": [
    "pd.DataFrame(x_train_scale)"
   ]
  },
  {
   "cell_type": "code",
   "execution_count": 238,
   "id": "a4d9c432",
   "metadata": {},
   "outputs": [
    {
     "data": {
      "text/plain": [
       "array([[0.78971963, 1.        , 0.1618799 , ..., 1.        , 0.03225806,\n",
       "        0.25      ],\n",
       "       [0.78971963, 1.        , 0.24543081, ..., 1.        , 0.06451613,\n",
       "        0.375     ],\n",
       "       [0.76635514, 1.        , 0.17754569, ..., 1.        , 0.06451613,\n",
       "        0.25      ],\n",
       "       ...,\n",
       "       [0.78971963, 1.        , 0.15926893, ..., 1.        , 0.16129032,\n",
       "        0.25      ],\n",
       "       [0.78971963, 1.        , 0.10443864, ..., 1.        , 0.09677419,\n",
       "        0.375     ],\n",
       "       [0.79439252, 1.        , 0.21409922, ..., 1.        , 0.03225806,\n",
       "        0.25      ]])"
      ]
     },
     "execution_count": 238,
     "metadata": {},
     "output_type": "execute_result"
    }
   ],
   "source": [
    "x_test_scale"
   ]
  },
  {
   "cell_type": "markdown",
   "id": "c834360b",
   "metadata": {},
   "source": [
    "# model NO4:\n",
    "linear regression with min max scale train  and min max scale test"
   ]
  },
  {
   "cell_type": "code",
   "execution_count": 254,
   "id": "cccca8f7",
   "metadata": {},
   "outputs": [
    {
     "name": "stdout",
     "output_type": "stream",
     "text": [
      "Coefficients: \n",
      " [ 6.11736925e+07 -5.59431410e+04  1.38301561e+08  1.77339603e+07\n",
      " -5.40956657e+07 -3.94644847e+06 -9.50890322e+05  6.91822134e+05\n",
      " -1.22908384e+05 -3.94644847e+06  3.65651093e+07]\n",
      "Mean squared error: 12102578.19\n",
      "Coefficient of determination: 0.80\n"
     ]
    }
   ],
   "source": [
    "regr = LinearRegression()\n",
    "regr.fit(x_train_scale, y_train)\n",
    "y_pred_scale = regr.predict(x_test_scale)\n",
    "mse= mean_squared_error(y_test, y_pred_scale)\n",
    "print(\"Coefficients: \\n\", regr.coef_)\n",
    "print(\"Mean squared error: %.2f\" % np.sqrt(mse))\n",
    "# The coefficient of determination: 1 is perfect prediction\n",
    "print(\"Coefficient of determination: %.2f\" % r2_score(y_test, y_pred_scale))"
   ]
  },
  {
   "cell_type": "code",
   "execution_count": 129,
   "id": "e842851e",
   "metadata": {},
   "outputs": [],
   "source": []
  },
  {
   "cell_type": "code",
   "execution_count": 135,
   "id": "9c6f1692",
   "metadata": {},
   "outputs": [],
   "source": [
    "\n"
   ]
  },
  {
   "cell_type": "markdown",
   "id": "4efec434",
   "metadata": {},
   "source": [
    "# model NO5:\n",
    "elastic regression with min max scale train and min max scale test"
   ]
  },
  {
   "cell_type": "code",
   "execution_count": 247,
   "id": "c3112ac8",
   "metadata": {},
   "outputs": [
    {
     "data": {
      "text/html": [
       "<style>#sk-container-id-9 {color: black;background-color: white;}#sk-container-id-9 pre{padding: 0;}#sk-container-id-9 div.sk-toggleable {background-color: white;}#sk-container-id-9 label.sk-toggleable__label {cursor: pointer;display: block;width: 100%;margin-bottom: 0;padding: 0.3em;box-sizing: border-box;text-align: center;}#sk-container-id-9 label.sk-toggleable__label-arrow:before {content: \"▸\";float: left;margin-right: 0.25em;color: #696969;}#sk-container-id-9 label.sk-toggleable__label-arrow:hover:before {color: black;}#sk-container-id-9 div.sk-estimator:hover label.sk-toggleable__label-arrow:before {color: black;}#sk-container-id-9 div.sk-toggleable__content {max-height: 0;max-width: 0;overflow: hidden;text-align: left;background-color: #f0f8ff;}#sk-container-id-9 div.sk-toggleable__content pre {margin: 0.2em;color: black;border-radius: 0.25em;background-color: #f0f8ff;}#sk-container-id-9 input.sk-toggleable__control:checked~div.sk-toggleable__content {max-height: 200px;max-width: 100%;overflow: auto;}#sk-container-id-9 input.sk-toggleable__control:checked~label.sk-toggleable__label-arrow:before {content: \"▾\";}#sk-container-id-9 div.sk-estimator input.sk-toggleable__control:checked~label.sk-toggleable__label {background-color: #d4ebff;}#sk-container-id-9 div.sk-label input.sk-toggleable__control:checked~label.sk-toggleable__label {background-color: #d4ebff;}#sk-container-id-9 input.sk-hidden--visually {border: 0;clip: rect(1px 1px 1px 1px);clip: rect(1px, 1px, 1px, 1px);height: 1px;margin: -1px;overflow: hidden;padding: 0;position: absolute;width: 1px;}#sk-container-id-9 div.sk-estimator {font-family: monospace;background-color: #f0f8ff;border: 1px dotted black;border-radius: 0.25em;box-sizing: border-box;margin-bottom: 0.5em;}#sk-container-id-9 div.sk-estimator:hover {background-color: #d4ebff;}#sk-container-id-9 div.sk-parallel-item::after {content: \"\";width: 100%;border-bottom: 1px solid gray;flex-grow: 1;}#sk-container-id-9 div.sk-label:hover label.sk-toggleable__label {background-color: #d4ebff;}#sk-container-id-9 div.sk-serial::before {content: \"\";position: absolute;border-left: 1px solid gray;box-sizing: border-box;top: 0;bottom: 0;left: 50%;z-index: 0;}#sk-container-id-9 div.sk-serial {display: flex;flex-direction: column;align-items: center;background-color: white;padding-right: 0.2em;padding-left: 0.2em;position: relative;}#sk-container-id-9 div.sk-item {position: relative;z-index: 1;}#sk-container-id-9 div.sk-parallel {display: flex;align-items: stretch;justify-content: center;background-color: white;position: relative;}#sk-container-id-9 div.sk-item::before, #sk-container-id-9 div.sk-parallel-item::before {content: \"\";position: absolute;border-left: 1px solid gray;box-sizing: border-box;top: 0;bottom: 0;left: 50%;z-index: -1;}#sk-container-id-9 div.sk-parallel-item {display: flex;flex-direction: column;z-index: 1;position: relative;background-color: white;}#sk-container-id-9 div.sk-parallel-item:first-child::after {align-self: flex-end;width: 50%;}#sk-container-id-9 div.sk-parallel-item:last-child::after {align-self: flex-start;width: 50%;}#sk-container-id-9 div.sk-parallel-item:only-child::after {width: 0;}#sk-container-id-9 div.sk-dashed-wrapped {border: 1px dashed gray;margin: 0 0.4em 0.5em 0.4em;box-sizing: border-box;padding-bottom: 0.4em;background-color: white;}#sk-container-id-9 div.sk-label label {font-family: monospace;font-weight: bold;display: inline-block;line-height: 1.2em;}#sk-container-id-9 div.sk-label-container {text-align: center;}#sk-container-id-9 div.sk-container {/* jupyter's `normalize.less` sets `[hidden] { display: none; }` but bootstrap.min.css set `[hidden] { display: none !important; }` so we also need the `!important` here to be able to override the default hidden behavior on the sphinx rendered scikit-learn.org. See: https://github.com/scikit-learn/scikit-learn/issues/21755 */display: inline-block !important;position: relative;}#sk-container-id-9 div.sk-text-repr-fallback {display: none;}</style><div id=\"sk-container-id-9\" class=\"sk-top-container\"><div class=\"sk-text-repr-fallback\"><pre>ElasticNet(l1_ratio=0.99)</pre><b>In a Jupyter environment, please rerun this cell to show the HTML representation or trust the notebook. <br />On GitHub, the HTML representation is unable to render, please try loading this page with nbviewer.org.</b></div><div class=\"sk-container\" hidden><div class=\"sk-item\"><div class=\"sk-estimator sk-toggleable\"><input class=\"sk-toggleable__control sk-hidden--visually\" id=\"sk-estimator-id-9\" type=\"checkbox\" checked><label for=\"sk-estimator-id-9\" class=\"sk-toggleable__label sk-toggleable__label-arrow\">ElasticNet</label><div class=\"sk-toggleable__content\"><pre>ElasticNet(l1_ratio=0.99)</pre></div></div></div></div></div>"
      ],
      "text/plain": [
       "ElasticNet(l1_ratio=0.99)"
      ]
     },
     "execution_count": 247,
     "metadata": {},
     "output_type": "execute_result"
    }
   ],
   "source": [
    "El_reg.fit(x_train_scale, y_train)"
   ]
  },
  {
   "cell_type": "code",
   "execution_count": 248,
   "id": "4a6f127e",
   "metadata": {},
   "outputs": [],
   "source": [
    "El_reg.fit(x_train_scale, y_train)\n",
    "El_predictions_scale=El_reg.predict(x_test_scale)\n",
    "El_mse = mean_squared_error(y_test , El_predictions_scale)\n",
    "El_rmse = np.sqrt(El_mse)"
   ]
  },
  {
   "cell_type": "code",
   "execution_count": 249,
   "id": "31f6c070",
   "metadata": {},
   "outputs": [
    {
     "data": {
      "text/plain": [
       "12926303.67812849"
      ]
     },
     "execution_count": 249,
     "metadata": {},
     "output_type": "execute_result"
    }
   ],
   "source": [
    "El_mse = mean_squared_error(y_test , El_predictions_scale)\n",
    "El_rmse = np.sqrt(El_mse)\n",
    "El_rmse"
   ]
  },
  {
   "cell_type": "markdown",
   "id": "b97e3a79",
   "metadata": {},
   "source": [
    "# model NO6:\n",
    "ridge net regression with train and test"
   ]
  },
  {
   "cell_type": "code",
   "execution_count": 251,
   "id": "0c6d9263",
   "metadata": {},
   "outputs": [],
   "source": [
    "ridge_reg = Ridge(alpha=0.99)\n",
    "ridge_reg.fit(x_train, y_train)\n",
    "ridge_reg_predictions=ridge_reg.predict(x_test)"
   ]
  },
  {
   "cell_type": "code",
   "execution_count": 252,
   "id": "7d3d9dab",
   "metadata": {},
   "outputs": [
    {
     "data": {
      "text/plain": [
       "12112364.325009052"
      ]
     },
     "execution_count": 252,
     "metadata": {},
     "output_type": "execute_result"
    }
   ],
   "source": [
    "ridge_reg_mse = mean_squared_error(y_test , ridge_reg_predictions)\n",
    "ridge_reg_rmse = np.sqrt(ridge_reg_mse)\n",
    "ridge_reg_rmse"
   ]
  },
  {
   "cell_type": "markdown",
   "id": "e81dccbc",
   "metadata": {},
   "source": [
    "# model NO7:\n",
    " Polynomial regression with train scale and test scale"
   ]
  },
  {
   "cell_type": "code",
   "execution_count": 241,
   "id": "fda4bc66",
   "metadata": {},
   "outputs": [
    {
     "data": {
      "text/plain": [
       "[<matplotlib.lines.Line2D at 0x1efd0718>]"
      ]
     },
     "execution_count": 241,
     "metadata": {},
     "output_type": "execute_result"
    },
    {
     "data": {
      "image/png": "[encoded data removed]",
      "text/plain": [
       "<Figure size 432x288 with 1 Axes>"
      ]
     },
     "metadata": {},
     "output_type": "display_data"
    }
   ],
   "source": [
    "from sklearn.preprocessing import PolynomialFeatures\n",
    "polynomial_regression_pipline = make_pipeline(\n",
    "    PolynomialFeatures(degree=3),\n",
    "    LinearRegression() \n",
    ")\n",
    "\n",
    "train_sizes, train_scores, valid_scores = learning_curve(\n",
    "    polynomial_regression_pipline, x_train_scale, y_train, train_sizes=np.linspace(0.01, 1.0, 40), cv=5,\n",
    "    scoring=\"neg_root_mean_squared_error\"\n",
    ")\n",
    "\n",
    "train_errors = -train_scores.mean(axis=1)\n",
    "valid_errors = -valid_scores.mean(axis=1)\n",
    "\n",
    "plt.plot(train_sizes, train_errors, \"r-+\", linewidth=2, label=\"train\")\n",
    "plt.plot(train_sizes, valid_errors, \"b-\", linewidth=3, label=\"valid\")"
   ]
  },
  {
   "cell_type": "code",
   "execution_count": 243,
   "id": "57e9fab4",
   "metadata": {},
   "outputs": [
    {
     "data": {
      "text/plain": [
       "array([7678173.83474705, 8740499.51554072, 8732289.72613757,\n",
       "       8738810.16051414, 8803556.9472429 , 9025649.17482283,\n",
       "       8857573.55219155, 8786983.49048504, 8777758.74998952,\n",
       "       8756535.03864215, 8809973.17419273, 8851476.15906294,\n",
       "       8972129.28848981, 8886053.93920081, 8876742.21080243,\n",
       "                    nan,              nan,              nan,\n",
       "                    nan,              nan,              nan,\n",
       "                    nan,              nan,              nan,\n",
       "                    nan,              nan,              nan,\n",
       "                    nan,              nan,              nan,\n",
       "                    nan,              nan,              nan,\n",
       "                    nan,              nan,              nan,\n",
       "                    nan,              nan,              nan,\n",
       "                    nan])"
      ]
     },
     "execution_count": 243,
     "metadata": {},
     "output_type": "execute_result"
    }
   ],
   "source": [
    "train_errors"
   ]
  },
  {
   "cell_type": "markdown",
   "id": "09badf90",
   "metadata": {},
   "source": [
    "# this model has the best prediction"
   ]
  },
  {
   "cell_type": "code",
   "execution_count": 245,
   "id": "3b4391e8",
   "metadata": {},
   "outputs": [],
   "source": [
    "polynomial_pipline = make_pipeline(\n",
    "    PolynomialFeatures(degree=2),\n",
    "    LinearRegression()\n",
    ")\n",
    "\n",
    "polynomial_pipline.fit(x_train_scale, y_train)\n",
    "y_poly_predict = polynomial_pipline.predict(x_test_scale)\n",
    "poly_rmse = mean_squared_error(y_test, y_poly_predict)\n",
    "poly_rmse=np.sqrt(poly_rmse)"
   ]
  },
  {
   "cell_type": "code",
   "execution_count": 246,
   "id": "6f5391b7",
   "metadata": {},
   "outputs": [
    {
     "data": {
      "text/plain": [
       "9834122.270267526"
      ]
     },
     "execution_count": 246,
     "metadata": {},
     "output_type": "execute_result"
    }
   ],
   "source": [
    "poly_rmse"
   ]
  },
  {
   "cell_type": "markdown",
   "id": "e028649c",
   "metadata": {},
   "source": [
    "# model NO8:\n",
    "    SGD regression with scale train and test"
   ]
  },
  {
   "cell_type": "code",
   "execution_count": 259,
   "id": "4f62a515",
   "metadata": {},
   "outputs": [
    {
     "name": "stdout",
     "output_type": "stream",
     "text": [
      "Coefficients: \n",
      " [ 6.11569555e+07  2.53136023e+04  1.38336478e+08  1.80542595e+07\n",
      " -5.38704284e+07 -3.86066118e+06 -7.88634082e+05  1.05155251e+06\n",
      "  8.20836673e+05 -3.86066118e+06  3.67981763e+07]\n",
      "Mean squared error: 12319231.34\n",
      "Coefficient of determination: 0.79\n"
     ]
    }
   ],
   "source": [
    "\n",
    "sgd =SGDRegressor(penalty='l1', max_iter=10000, tol=1e-5, eta0=0.1, random_state=45)\n",
    "sgd.fit(x_train_scale, y_train)\n",
    "y_sgd_predict = sgd.predict(x_test_scale)\n",
    "mse= mean_squared_error(y_test, y_sgd_predict)\n",
    "print(\"Coefficients: \\n\", sgd.coef_)\n",
    "print(\"Mean squared error: %.2f\" % np.sqrt(mse))\n",
    "# The coefficient of determination: 1 is perfect prediction\n",
    "print(\"Coefficient of determination: %.2f\" % r2_score(y_test, y_sgd_predict))"
   ]
  },
  {
   "cell_type": "code",
   "execution_count": null,
   "id": "c448269c",
   "metadata": {},
   "outputs": [],
   "source": []
  },
  {
   "cell_type": "code",
   "execution_count": null,
   "id": "2a035a6c",
   "metadata": {},
   "outputs": [],
   "source": []
  },
  {
   "cell_type": "code",
   "execution_count": null,
   "id": "be84a46a",
   "metadata": {},
   "outputs": [],
   "source": []
  }
 ],
 "metadata": {
  "kernelspec": {
   "display_name": "Python 3 (ipykernel)",
   "language": "python",
   "name": "python3"
  },
  "language_info": {
   "codemirror_mode": {
    "name": "ipython",
    "version": 3
   },
   "file_extension": ".py",
   "mimetype": "text/x-python",
   "name": "python",
   "nbconvert_exporter": "python",
   "pygments_lexer": "ipython3",
   "version": "3.9.8"
  }
 },
 "nbformat": 4,
 "nbformat_minor": 5
}
